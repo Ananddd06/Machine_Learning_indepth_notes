{
  "nbformat": 4,
  "nbformat_minor": 0,
  "metadata": {
    "colab": {
      "provenance": [],
      "gpuType": "T4",
      "include_colab_link": true
    },
    "kernelspec": {
      "name": "python3",
      "display_name": "Python 3"
    },
    "language_info": {
      "name": "python"
    },
    "widgets": {
      "application/vnd.jupyter.widget-state+json": {
        "08817da89246473da25d22714233f520": {
          "model_module": "@jupyter-widgets/controls",
          "model_name": "HBoxModel",
          "model_module_version": "1.5.0",
          "state": {
            "_dom_classes": [],
            "_model_module": "@jupyter-widgets/controls",
            "_model_module_version": "1.5.0",
            "_model_name": "HBoxModel",
            "_view_count": null,
            "_view_module": "@jupyter-widgets/controls",
            "_view_module_version": "1.5.0",
            "_view_name": "HBoxView",
            "box_style": "",
            "children": [
              "IPY_MODEL_3b107e0897c8469381192cb913fbfa73",
              "IPY_MODEL_25d60868101740e1bd964543e30b8346",
              "IPY_MODEL_c9c1930dc73a4dd39f6c14ee58503903"
            ],
            "layout": "IPY_MODEL_977eb9d17c9943d9a5cfd43e1415ed05"
          }
        },
        "3b107e0897c8469381192cb913fbfa73": {
          "model_module": "@jupyter-widgets/controls",
          "model_name": "HTMLModel",
          "model_module_version": "1.5.0",
          "state": {
            "_dom_classes": [],
            "_model_module": "@jupyter-widgets/controls",
            "_model_module_version": "1.5.0",
            "_model_name": "HTMLModel",
            "_view_count": null,
            "_view_module": "@jupyter-widgets/controls",
            "_view_module_version": "1.5.0",
            "_view_name": "HTMLView",
            "description": "",
            "description_tooltip": null,
            "layout": "IPY_MODEL_f72cb714aafa4c9cb05d66eda0fd3883",
            "placeholder": "​",
            "style": "IPY_MODEL_53a08c9b5b1b4be08e9c87526583b867",
            "value": "Downloading: 100%"
          }
        },
        "25d60868101740e1bd964543e30b8346": {
          "model_module": "@jupyter-widgets/controls",
          "model_name": "FloatProgressModel",
          "model_module_version": "1.5.0",
          "state": {
            "_dom_classes": [],
            "_model_module": "@jupyter-widgets/controls",
            "_model_module_version": "1.5.0",
            "_model_name": "FloatProgressModel",
            "_view_count": null,
            "_view_module": "@jupyter-widgets/controls",
            "_view_module_version": "1.5.0",
            "_view_name": "ProgressView",
            "bar_style": "success",
            "description": "",
            "description_tooltip": null,
            "layout": "IPY_MODEL_a99a2c4adf094bfb859e395013b71915",
            "max": 953,
            "min": 0,
            "orientation": "horizontal",
            "style": "IPY_MODEL_ba52252634184a809ae66188ed93b6c1",
            "value": 953
          }
        },
        "c9c1930dc73a4dd39f6c14ee58503903": {
          "model_module": "@jupyter-widgets/controls",
          "model_name": "HTMLModel",
          "model_module_version": "1.5.0",
          "state": {
            "_dom_classes": [],
            "_model_module": "@jupyter-widgets/controls",
            "_model_module_version": "1.5.0",
            "_model_name": "HTMLModel",
            "_view_count": null,
            "_view_module": "@jupyter-widgets/controls",
            "_view_module_version": "1.5.0",
            "_view_name": "HTMLView",
            "description": "",
            "description_tooltip": null,
            "layout": "IPY_MODEL_dc2010b3b0a742dc84448ec8dc4bc955",
            "placeholder": "​",
            "style": "IPY_MODEL_4a077ac51001481c904cbf3ec7fa9bb0",
            "value": " 953/953 [00:00&lt;00:00, 16.1kB/s]"
          }
        },
        "977eb9d17c9943d9a5cfd43e1415ed05": {
          "model_module": "@jupyter-widgets/base",
          "model_name": "LayoutModel",
          "model_module_version": "1.2.0",
          "state": {
            "_model_module": "@jupyter-widgets/base",
            "_model_module_version": "1.2.0",
            "_model_name": "LayoutModel",
            "_view_count": null,
            "_view_module": "@jupyter-widgets/base",
            "_view_module_version": "1.2.0",
            "_view_name": "LayoutView",
            "align_content": null,
            "align_items": null,
            "align_self": null,
            "border": null,
            "bottom": null,
            "display": null,
            "flex": null,
            "flex_flow": null,
            "grid_area": null,
            "grid_auto_columns": null,
            "grid_auto_flow": null,
            "grid_auto_rows": null,
            "grid_column": null,
            "grid_gap": null,
            "grid_row": null,
            "grid_template_areas": null,
            "grid_template_columns": null,
            "grid_template_rows": null,
            "height": null,
            "justify_content": null,
            "justify_items": null,
            "left": null,
            "margin": null,
            "max_height": null,
            "max_width": null,
            "min_height": null,
            "min_width": null,
            "object_fit": null,
            "object_position": null,
            "order": null,
            "overflow": null,
            "overflow_x": null,
            "overflow_y": null,
            "padding": null,
            "right": null,
            "top": null,
            "visibility": null,
            "width": null
          }
        },
        "f72cb714aafa4c9cb05d66eda0fd3883": {
          "model_module": "@jupyter-widgets/base",
          "model_name": "LayoutModel",
          "model_module_version": "1.2.0",
          "state": {
            "_model_module": "@jupyter-widgets/base",
            "_model_module_version": "1.2.0",
            "_model_name": "LayoutModel",
            "_view_count": null,
            "_view_module": "@jupyter-widgets/base",
            "_view_module_version": "1.2.0",
            "_view_name": "LayoutView",
            "align_content": null,
            "align_items": null,
            "align_self": null,
            "border": null,
            "bottom": null,
            "display": null,
            "flex": null,
            "flex_flow": null,
            "grid_area": null,
            "grid_auto_columns": null,
            "grid_auto_flow": null,
            "grid_auto_rows": null,
            "grid_column": null,
            "grid_gap": null,
            "grid_row": null,
            "grid_template_areas": null,
            "grid_template_columns": null,
            "grid_template_rows": null,
            "height": null,
            "justify_content": null,
            "justify_items": null,
            "left": null,
            "margin": null,
            "max_height": null,
            "max_width": null,
            "min_height": null,
            "min_width": null,
            "object_fit": null,
            "object_position": null,
            "order": null,
            "overflow": null,
            "overflow_x": null,
            "overflow_y": null,
            "padding": null,
            "right": null,
            "top": null,
            "visibility": null,
            "width": null
          }
        },
        "53a08c9b5b1b4be08e9c87526583b867": {
          "model_module": "@jupyter-widgets/controls",
          "model_name": "DescriptionStyleModel",
          "model_module_version": "1.5.0",
          "state": {
            "_model_module": "@jupyter-widgets/controls",
            "_model_module_version": "1.5.0",
            "_model_name": "DescriptionStyleModel",
            "_view_count": null,
            "_view_module": "@jupyter-widgets/base",
            "_view_module_version": "1.2.0",
            "_view_name": "StyleView",
            "description_width": ""
          }
        },
        "a99a2c4adf094bfb859e395013b71915": {
          "model_module": "@jupyter-widgets/base",
          "model_name": "LayoutModel",
          "model_module_version": "1.2.0",
          "state": {
            "_model_module": "@jupyter-widgets/base",
            "_model_module_version": "1.2.0",
            "_model_name": "LayoutModel",
            "_view_count": null,
            "_view_module": "@jupyter-widgets/base",
            "_view_module_version": "1.2.0",
            "_view_name": "LayoutView",
            "align_content": null,
            "align_items": null,
            "align_self": null,
            "border": null,
            "bottom": null,
            "display": null,
            "flex": null,
            "flex_flow": null,
            "grid_area": null,
            "grid_auto_columns": null,
            "grid_auto_flow": null,
            "grid_auto_rows": null,
            "grid_column": null,
            "grid_gap": null,
            "grid_row": null,
            "grid_template_areas": null,
            "grid_template_columns": null,
            "grid_template_rows": null,
            "height": null,
            "justify_content": null,
            "justify_items": null,
            "left": null,
            "margin": null,
            "max_height": null,
            "max_width": null,
            "min_height": null,
            "min_width": null,
            "object_fit": null,
            "object_position": null,
            "order": null,
            "overflow": null,
            "overflow_x": null,
            "overflow_y": null,
            "padding": null,
            "right": null,
            "top": null,
            "visibility": null,
            "width": null
          }
        },
        "ba52252634184a809ae66188ed93b6c1": {
          "model_module": "@jupyter-widgets/controls",
          "model_name": "ProgressStyleModel",
          "model_module_version": "1.5.0",
          "state": {
            "_model_module": "@jupyter-widgets/controls",
            "_model_module_version": "1.5.0",
            "_model_name": "ProgressStyleModel",
            "_view_count": null,
            "_view_module": "@jupyter-widgets/base",
            "_view_module_version": "1.2.0",
            "_view_name": "StyleView",
            "bar_color": null,
            "description_width": ""
          }
        },
        "dc2010b3b0a742dc84448ec8dc4bc955": {
          "model_module": "@jupyter-widgets/base",
          "model_name": "LayoutModel",
          "model_module_version": "1.2.0",
          "state": {
            "_model_module": "@jupyter-widgets/base",
            "_model_module_version": "1.2.0",
            "_model_name": "LayoutModel",
            "_view_count": null,
            "_view_module": "@jupyter-widgets/base",
            "_view_module_version": "1.2.0",
            "_view_name": "LayoutView",
            "align_content": null,
            "align_items": null,
            "align_self": null,
            "border": null,
            "bottom": null,
            "display": null,
            "flex": null,
            "flex_flow": null,
            "grid_area": null,
            "grid_auto_columns": null,
            "grid_auto_flow": null,
            "grid_auto_rows": null,
            "grid_column": null,
            "grid_gap": null,
            "grid_row": null,
            "grid_template_areas": null,
            "grid_template_columns": null,
            "grid_template_rows": null,
            "height": null,
            "justify_content": null,
            "justify_items": null,
            "left": null,
            "margin": null,
            "max_height": null,
            "max_width": null,
            "min_height": null,
            "min_width": null,
            "object_fit": null,
            "object_position": null,
            "order": null,
            "overflow": null,
            "overflow_x": null,
            "overflow_y": null,
            "padding": null,
            "right": null,
            "top": null,
            "visibility": null,
            "width": null
          }
        },
        "4a077ac51001481c904cbf3ec7fa9bb0": {
          "model_module": "@jupyter-widgets/controls",
          "model_name": "DescriptionStyleModel",
          "model_module_version": "1.5.0",
          "state": {
            "_model_module": "@jupyter-widgets/controls",
            "_model_module_version": "1.5.0",
            "_model_name": "DescriptionStyleModel",
            "_view_count": null,
            "_view_module": "@jupyter-widgets/base",
            "_view_module_version": "1.2.0",
            "_view_name": "StyleView",
            "description_width": ""
          }
        },
        "ebdc00f418df4afc9bfac7eb550eb74a": {
          "model_module": "@jupyter-widgets/controls",
          "model_name": "HBoxModel",
          "model_module_version": "1.5.0",
          "state": {
            "_dom_classes": [],
            "_model_module": "@jupyter-widgets/controls",
            "_model_module_version": "1.5.0",
            "_model_name": "HBoxModel",
            "_view_count": null,
            "_view_module": "@jupyter-widgets/controls",
            "_view_module_version": "1.5.0",
            "_view_name": "HBoxView",
            "box_style": "",
            "children": [
              "IPY_MODEL_1401129f5a344b4f812e17a9511b1c63",
              "IPY_MODEL_e742da4a1d344590b8a39a8a319f4e6d",
              "IPY_MODEL_52e9811091cb4bc0a7cd37171d305730"
            ],
            "layout": "IPY_MODEL_8a9a38369b544ec7b08bfb66ea95ff3e"
          }
        },
        "1401129f5a344b4f812e17a9511b1c63": {
          "model_module": "@jupyter-widgets/controls",
          "model_name": "HTMLModel",
          "model_module_version": "1.5.0",
          "state": {
            "_dom_classes": [],
            "_model_module": "@jupyter-widgets/controls",
            "_model_module_version": "1.5.0",
            "_model_name": "HTMLModel",
            "_view_count": null,
            "_view_module": "@jupyter-widgets/controls",
            "_view_module_version": "1.5.0",
            "_view_name": "HTMLView",
            "description": "",
            "description_tooltip": null,
            "layout": "IPY_MODEL_141f4388afcd46d3a5745aa07c4bafb0",
            "placeholder": "​",
            "style": "IPY_MODEL_94e9bf2264be4dd1af2c4ab348ce40fc",
            "value": "100%"
          }
        },
        "e742da4a1d344590b8a39a8a319f4e6d": {
          "model_module": "@jupyter-widgets/controls",
          "model_name": "FloatProgressModel",
          "model_module_version": "1.5.0",
          "state": {
            "_dom_classes": [],
            "_model_module": "@jupyter-widgets/controls",
            "_model_module_version": "1.5.0",
            "_model_name": "FloatProgressModel",
            "_view_count": null,
            "_view_module": "@jupyter-widgets/controls",
            "_view_module_version": "1.5.0",
            "_view_name": "ProgressView",
            "bar_style": "success",
            "description": "",
            "description_tooltip": null,
            "layout": "IPY_MODEL_c9cf82993b404a8d94b7b9436c243a49",
            "max": 3,
            "min": 0,
            "orientation": "horizontal",
            "style": "IPY_MODEL_697f2fe1aaf14daab54f39518049974a",
            "value": 3
          }
        },
        "52e9811091cb4bc0a7cd37171d305730": {
          "model_module": "@jupyter-widgets/controls",
          "model_name": "HTMLModel",
          "model_module_version": "1.5.0",
          "state": {
            "_dom_classes": [],
            "_model_module": "@jupyter-widgets/controls",
            "_model_module_version": "1.5.0",
            "_model_name": "HTMLModel",
            "_view_count": null,
            "_view_module": "@jupyter-widgets/controls",
            "_view_module_version": "1.5.0",
            "_view_name": "HTMLView",
            "description": "",
            "description_tooltip": null,
            "layout": "IPY_MODEL_8dc198991de44e3aa769d40e5f61acb6",
            "placeholder": "​",
            "style": "IPY_MODEL_52dcdbb197264b528a886200fefa535e",
            "value": " 3/3 [00:09&lt;00:00,  3.60s/it]"
          }
        },
        "8a9a38369b544ec7b08bfb66ea95ff3e": {
          "model_module": "@jupyter-widgets/base",
          "model_name": "LayoutModel",
          "model_module_version": "1.2.0",
          "state": {
            "_model_module": "@jupyter-widgets/base",
            "_model_module_version": "1.2.0",
            "_model_name": "LayoutModel",
            "_view_count": null,
            "_view_module": "@jupyter-widgets/base",
            "_view_module_version": "1.2.0",
            "_view_name": "LayoutView",
            "align_content": null,
            "align_items": null,
            "align_self": null,
            "border": null,
            "bottom": null,
            "display": null,
            "flex": null,
            "flex_flow": null,
            "grid_area": null,
            "grid_auto_columns": null,
            "grid_auto_flow": null,
            "grid_auto_rows": null,
            "grid_column": null,
            "grid_gap": null,
            "grid_row": null,
            "grid_template_areas": null,
            "grid_template_columns": null,
            "grid_template_rows": null,
            "height": null,
            "justify_content": null,
            "justify_items": null,
            "left": null,
            "margin": null,
            "max_height": null,
            "max_width": null,
            "min_height": null,
            "min_width": null,
            "object_fit": null,
            "object_position": null,
            "order": null,
            "overflow": null,
            "overflow_x": null,
            "overflow_y": null,
            "padding": null,
            "right": null,
            "top": null,
            "visibility": null,
            "width": null
          }
        },
        "141f4388afcd46d3a5745aa07c4bafb0": {
          "model_module": "@jupyter-widgets/base",
          "model_name": "LayoutModel",
          "model_module_version": "1.2.0",
          "state": {
            "_model_module": "@jupyter-widgets/base",
            "_model_module_version": "1.2.0",
            "_model_name": "LayoutModel",
            "_view_count": null,
            "_view_module": "@jupyter-widgets/base",
            "_view_module_version": "1.2.0",
            "_view_name": "LayoutView",
            "align_content": null,
            "align_items": null,
            "align_self": null,
            "border": null,
            "bottom": null,
            "display": null,
            "flex": null,
            "flex_flow": null,
            "grid_area": null,
            "grid_auto_columns": null,
            "grid_auto_flow": null,
            "grid_auto_rows": null,
            "grid_column": null,
            "grid_gap": null,
            "grid_row": null,
            "grid_template_areas": null,
            "grid_template_columns": null,
            "grid_template_rows": null,
            "height": null,
            "justify_content": null,
            "justify_items": null,
            "left": null,
            "margin": null,
            "max_height": null,
            "max_width": null,
            "min_height": null,
            "min_width": null,
            "object_fit": null,
            "object_position": null,
            "order": null,
            "overflow": null,
            "overflow_x": null,
            "overflow_y": null,
            "padding": null,
            "right": null,
            "top": null,
            "visibility": null,
            "width": null
          }
        },
        "94e9bf2264be4dd1af2c4ab348ce40fc": {
          "model_module": "@jupyter-widgets/controls",
          "model_name": "DescriptionStyleModel",
          "model_module_version": "1.5.0",
          "state": {
            "_model_module": "@jupyter-widgets/controls",
            "_model_module_version": "1.5.0",
            "_model_name": "DescriptionStyleModel",
            "_view_count": null,
            "_view_module": "@jupyter-widgets/base",
            "_view_module_version": "1.2.0",
            "_view_name": "StyleView",
            "description_width": ""
          }
        },
        "c9cf82993b404a8d94b7b9436c243a49": {
          "model_module": "@jupyter-widgets/base",
          "model_name": "LayoutModel",
          "model_module_version": "1.2.0",
          "state": {
            "_model_module": "@jupyter-widgets/base",
            "_model_module_version": "1.2.0",
            "_model_name": "LayoutModel",
            "_view_count": null,
            "_view_module": "@jupyter-widgets/base",
            "_view_module_version": "1.2.0",
            "_view_name": "LayoutView",
            "align_content": null,
            "align_items": null,
            "align_self": null,
            "border": null,
            "bottom": null,
            "display": null,
            "flex": null,
            "flex_flow": null,
            "grid_area": null,
            "grid_auto_columns": null,
            "grid_auto_flow": null,
            "grid_auto_rows": null,
            "grid_column": null,
            "grid_gap": null,
            "grid_row": null,
            "grid_template_areas": null,
            "grid_template_columns": null,
            "grid_template_rows": null,
            "height": null,
            "justify_content": null,
            "justify_items": null,
            "left": null,
            "margin": null,
            "max_height": null,
            "max_width": null,
            "min_height": null,
            "min_width": null,
            "object_fit": null,
            "object_position": null,
            "order": null,
            "overflow": null,
            "overflow_x": null,
            "overflow_y": null,
            "padding": null,
            "right": null,
            "top": null,
            "visibility": null,
            "width": null
          }
        },
        "697f2fe1aaf14daab54f39518049974a": {
          "model_module": "@jupyter-widgets/controls",
          "model_name": "ProgressStyleModel",
          "model_module_version": "1.5.0",
          "state": {
            "_model_module": "@jupyter-widgets/controls",
            "_model_module_version": "1.5.0",
            "_model_name": "ProgressStyleModel",
            "_view_count": null,
            "_view_module": "@jupyter-widgets/base",
            "_view_module_version": "1.2.0",
            "_view_name": "StyleView",
            "bar_color": null,
            "description_width": ""
          }
        },
        "8dc198991de44e3aa769d40e5f61acb6": {
          "model_module": "@jupyter-widgets/base",
          "model_name": "LayoutModel",
          "model_module_version": "1.2.0",
          "state": {
            "_model_module": "@jupyter-widgets/base",
            "_model_module_version": "1.2.0",
            "_model_name": "LayoutModel",
            "_view_count": null,
            "_view_module": "@jupyter-widgets/base",
            "_view_module_version": "1.2.0",
            "_view_name": "LayoutView",
            "align_content": null,
            "align_items": null,
            "align_self": null,
            "border": null,
            "bottom": null,
            "display": null,
            "flex": null,
            "flex_flow": null,
            "grid_area": null,
            "grid_auto_columns": null,
            "grid_auto_flow": null,
            "grid_auto_rows": null,
            "grid_column": null,
            "grid_gap": null,
            "grid_row": null,
            "grid_template_areas": null,
            "grid_template_columns": null,
            "grid_template_rows": null,
            "height": null,
            "justify_content": null,
            "justify_items": null,
            "left": null,
            "margin": null,
            "max_height": null,
            "max_width": null,
            "min_height": null,
            "min_width": null,
            "object_fit": null,
            "object_position": null,
            "order": null,
            "overflow": null,
            "overflow_x": null,
            "overflow_y": null,
            "padding": null,
            "right": null,
            "top": null,
            "visibility": null,
            "width": null
          }
        },
        "52dcdbb197264b528a886200fefa535e": {
          "model_module": "@jupyter-widgets/controls",
          "model_name": "DescriptionStyleModel",
          "model_module_version": "1.5.0",
          "state": {
            "_model_module": "@jupyter-widgets/controls",
            "_model_module_version": "1.5.0",
            "_model_name": "DescriptionStyleModel",
            "_view_count": null,
            "_view_module": "@jupyter-widgets/base",
            "_view_module_version": "1.2.0",
            "_view_name": "StyleView",
            "description_width": ""
          }
        },
        "69897f08c06f4898a57b2ffe7d69d012": {
          "model_module": "@jupyter-widgets/controls",
          "model_name": "HBoxModel",
          "model_module_version": "1.5.0",
          "state": {
            "_dom_classes": [],
            "_model_module": "@jupyter-widgets/controls",
            "_model_module_version": "1.5.0",
            "_model_name": "HBoxModel",
            "_view_count": null,
            "_view_module": "@jupyter-widgets/controls",
            "_view_module_version": "1.5.0",
            "_view_name": "HBoxView",
            "box_style": "",
            "children": [
              "IPY_MODEL_fb1177bce31b451eb5ce4a91816d21e0",
              "IPY_MODEL_67b52060626349deafce3f752a14f5a0",
              "IPY_MODEL_c619ca600d83410a99461401311c1a2b"
            ],
            "layout": "IPY_MODEL_26bc363cc0b9469497612ff8e3c4d209"
          }
        },
        "fb1177bce31b451eb5ce4a91816d21e0": {
          "model_module": "@jupyter-widgets/controls",
          "model_name": "HTMLModel",
          "model_module_version": "1.5.0",
          "state": {
            "_dom_classes": [],
            "_model_module": "@jupyter-widgets/controls",
            "_model_module_version": "1.5.0",
            "_model_name": "HTMLModel",
            "_view_count": null,
            "_view_module": "@jupyter-widgets/controls",
            "_view_module_version": "1.5.0",
            "_view_name": "HTMLView",
            "description": "",
            "description_tooltip": null,
            "layout": "IPY_MODEL_6998f0e477a04f028a211faa71b1ba13",
            "placeholder": "​",
            "style": "IPY_MODEL_1118d12e3e1345a3827048aacc092803",
            "value": "Downloading: 100%"
          }
        },
        "67b52060626349deafce3f752a14f5a0": {
          "model_module": "@jupyter-widgets/controls",
          "model_name": "FloatProgressModel",
          "model_module_version": "1.5.0",
          "state": {
            "_dom_classes": [],
            "_model_module": "@jupyter-widgets/controls",
            "_model_module_version": "1.5.0",
            "_model_name": "FloatProgressModel",
            "_view_count": null,
            "_view_module": "@jupyter-widgets/controls",
            "_view_module_version": "1.5.0",
            "_view_name": "ProgressView",
            "bar_style": "success",
            "description": "",
            "description_tooltip": null,
            "layout": "IPY_MODEL_336dc25ced714576814f282848aa73f4",
            "max": 500080,
            "min": 0,
            "orientation": "horizontal",
            "style": "IPY_MODEL_56b6fadcf5a44b309ed23993c92afb37",
            "value": 500080
          }
        },
        "c619ca600d83410a99461401311c1a2b": {
          "model_module": "@jupyter-widgets/controls",
          "model_name": "HTMLModel",
          "model_module_version": "1.5.0",
          "state": {
            "_dom_classes": [],
            "_model_module": "@jupyter-widgets/controls",
            "_model_module_version": "1.5.0",
            "_model_name": "HTMLModel",
            "_view_count": null,
            "_view_module": "@jupyter-widgets/controls",
            "_view_module_version": "1.5.0",
            "_view_name": "HTMLView",
            "description": "",
            "description_tooltip": null,
            "layout": "IPY_MODEL_8c68ee7ad8554a159ba3b29bd6d4cefd",
            "placeholder": "​",
            "style": "IPY_MODEL_9e6b51b68de946318c310bc5590331e4",
            "value": " 500k/500k [00:00&lt;00:00, 5.24MB/s]"
          }
        },
        "26bc363cc0b9469497612ff8e3c4d209": {
          "model_module": "@jupyter-widgets/base",
          "model_name": "LayoutModel",
          "model_module_version": "1.2.0",
          "state": {
            "_model_module": "@jupyter-widgets/base",
            "_model_module_version": "1.2.0",
            "_model_name": "LayoutModel",
            "_view_count": null,
            "_view_module": "@jupyter-widgets/base",
            "_view_module_version": "1.2.0",
            "_view_name": "LayoutView",
            "align_content": null,
            "align_items": null,
            "align_self": null,
            "border": null,
            "bottom": null,
            "display": null,
            "flex": null,
            "flex_flow": null,
            "grid_area": null,
            "grid_auto_columns": null,
            "grid_auto_flow": null,
            "grid_auto_rows": null,
            "grid_column": null,
            "grid_gap": null,
            "grid_row": null,
            "grid_template_areas": null,
            "grid_template_columns": null,
            "grid_template_rows": null,
            "height": null,
            "justify_content": null,
            "justify_items": null,
            "left": null,
            "margin": null,
            "max_height": null,
            "max_width": null,
            "min_height": null,
            "min_width": null,
            "object_fit": null,
            "object_position": null,
            "order": null,
            "overflow": null,
            "overflow_x": null,
            "overflow_y": null,
            "padding": null,
            "right": null,
            "top": null,
            "visibility": null,
            "width": null
          }
        },
        "6998f0e477a04f028a211faa71b1ba13": {
          "model_module": "@jupyter-widgets/base",
          "model_name": "LayoutModel",
          "model_module_version": "1.2.0",
          "state": {
            "_model_module": "@jupyter-widgets/base",
            "_model_module_version": "1.2.0",
            "_model_name": "LayoutModel",
            "_view_count": null,
            "_view_module": "@jupyter-widgets/base",
            "_view_module_version": "1.2.0",
            "_view_name": "LayoutView",
            "align_content": null,
            "align_items": null,
            "align_self": null,
            "border": null,
            "bottom": null,
            "display": null,
            "flex": null,
            "flex_flow": null,
            "grid_area": null,
            "grid_auto_columns": null,
            "grid_auto_flow": null,
            "grid_auto_rows": null,
            "grid_column": null,
            "grid_gap": null,
            "grid_row": null,
            "grid_template_areas": null,
            "grid_template_columns": null,
            "grid_template_rows": null,
            "height": null,
            "justify_content": null,
            "justify_items": null,
            "left": null,
            "margin": null,
            "max_height": null,
            "max_width": null,
            "min_height": null,
            "min_width": null,
            "object_fit": null,
            "object_position": null,
            "order": null,
            "overflow": null,
            "overflow_x": null,
            "overflow_y": null,
            "padding": null,
            "right": null,
            "top": null,
            "visibility": null,
            "width": null
          }
        },
        "1118d12e3e1345a3827048aacc092803": {
          "model_module": "@jupyter-widgets/controls",
          "model_name": "DescriptionStyleModel",
          "model_module_version": "1.5.0",
          "state": {
            "_model_module": "@jupyter-widgets/controls",
            "_model_module_version": "1.5.0",
            "_model_name": "DescriptionStyleModel",
            "_view_count": null,
            "_view_module": "@jupyter-widgets/base",
            "_view_module_version": "1.2.0",
            "_view_name": "StyleView",
            "description_width": ""
          }
        },
        "336dc25ced714576814f282848aa73f4": {
          "model_module": "@jupyter-widgets/base",
          "model_name": "LayoutModel",
          "model_module_version": "1.2.0",
          "state": {
            "_model_module": "@jupyter-widgets/base",
            "_model_module_version": "1.2.0",
            "_model_name": "LayoutModel",
            "_view_count": null,
            "_view_module": "@jupyter-widgets/base",
            "_view_module_version": "1.2.0",
            "_view_name": "LayoutView",
            "align_content": null,
            "align_items": null,
            "align_self": null,
            "border": null,
            "bottom": null,
            "display": null,
            "flex": null,
            "flex_flow": null,
            "grid_area": null,
            "grid_auto_columns": null,
            "grid_auto_flow": null,
            "grid_auto_rows": null,
            "grid_column": null,
            "grid_gap": null,
            "grid_row": null,
            "grid_template_areas": null,
            "grid_template_columns": null,
            "grid_template_rows": null,
            "height": null,
            "justify_content": null,
            "justify_items": null,
            "left": null,
            "margin": null,
            "max_height": null,
            "max_width": null,
            "min_height": null,
            "min_width": null,
            "object_fit": null,
            "object_position": null,
            "order": null,
            "overflow": null,
            "overflow_x": null,
            "overflow_y": null,
            "padding": null,
            "right": null,
            "top": null,
            "visibility": null,
            "width": null
          }
        },
        "56b6fadcf5a44b309ed23993c92afb37": {
          "model_module": "@jupyter-widgets/controls",
          "model_name": "ProgressStyleModel",
          "model_module_version": "1.5.0",
          "state": {
            "_model_module": "@jupyter-widgets/controls",
            "_model_module_version": "1.5.0",
            "_model_name": "ProgressStyleModel",
            "_view_count": null,
            "_view_module": "@jupyter-widgets/base",
            "_view_module_version": "1.2.0",
            "_view_name": "StyleView",
            "bar_color": null,
            "description_width": ""
          }
        },
        "8c68ee7ad8554a159ba3b29bd6d4cefd": {
          "model_module": "@jupyter-widgets/base",
          "model_name": "LayoutModel",
          "model_module_version": "1.2.0",
          "state": {
            "_model_module": "@jupyter-widgets/base",
            "_model_module_version": "1.2.0",
            "_model_name": "LayoutModel",
            "_view_count": null,
            "_view_module": "@jupyter-widgets/base",
            "_view_module_version": "1.2.0",
            "_view_name": "LayoutView",
            "align_content": null,
            "align_items": null,
            "align_self": null,
            "border": null,
            "bottom": null,
            "display": null,
            "flex": null,
            "flex_flow": null,
            "grid_area": null,
            "grid_auto_columns": null,
            "grid_auto_flow": null,
            "grid_auto_rows": null,
            "grid_column": null,
            "grid_gap": null,
            "grid_row": null,
            "grid_template_areas": null,
            "grid_template_columns": null,
            "grid_template_rows": null,
            "height": null,
            "justify_content": null,
            "justify_items": null,
            "left": null,
            "margin": null,
            "max_height": null,
            "max_width": null,
            "min_height": null,
            "min_width": null,
            "object_fit": null,
            "object_position": null,
            "order": null,
            "overflow": null,
            "overflow_x": null,
            "overflow_y": null,
            "padding": null,
            "right": null,
            "top": null,
            "visibility": null,
            "width": null
          }
        },
        "9e6b51b68de946318c310bc5590331e4": {
          "model_module": "@jupyter-widgets/controls",
          "model_name": "DescriptionStyleModel",
          "model_module_version": "1.5.0",
          "state": {
            "_model_module": "@jupyter-widgets/controls",
            "_model_module_version": "1.5.0",
            "_model_name": "DescriptionStyleModel",
            "_view_count": null,
            "_view_module": "@jupyter-widgets/base",
            "_view_module_version": "1.2.0",
            "_view_name": "StyleView",
            "description_width": ""
          }
        },
        "c3dc74f6f21948218c02d0bf06ad4149": {
          "model_module": "@jupyter-widgets/controls",
          "model_name": "HBoxModel",
          "model_module_version": "1.5.0",
          "state": {
            "_dom_classes": [],
            "_model_module": "@jupyter-widgets/controls",
            "_model_module_version": "1.5.0",
            "_model_name": "HBoxModel",
            "_view_count": null,
            "_view_module": "@jupyter-widgets/controls",
            "_view_module_version": "1.5.0",
            "_view_name": "HBoxView",
            "box_style": "",
            "children": [
              "IPY_MODEL_4a9f3e77f8784954a04a32495dea150c",
              "IPY_MODEL_bfe8f540effb4fb58b8036ccdf531bef",
              "IPY_MODEL_5bd722ea62554dfa9c3f2defd20ea73d"
            ],
            "layout": "IPY_MODEL_34000ecefefe4decb3201ce180547bf5"
          }
        },
        "4a9f3e77f8784954a04a32495dea150c": {
          "model_module": "@jupyter-widgets/controls",
          "model_name": "HTMLModel",
          "model_module_version": "1.5.0",
          "state": {
            "_dom_classes": [],
            "_model_module": "@jupyter-widgets/controls",
            "_model_module_version": "1.5.0",
            "_model_name": "HTMLModel",
            "_view_count": null,
            "_view_module": "@jupyter-widgets/controls",
            "_view_module_version": "1.5.0",
            "_view_name": "HTMLView",
            "description": "",
            "description_tooltip": null,
            "layout": "IPY_MODEL_529ced80ac0748ffa584e203734df20e",
            "placeholder": "​",
            "style": "IPY_MODEL_e445f50ff53b435a9bb1024db2b3fc8d",
            "value": "Downloading: 100%"
          }
        },
        "bfe8f540effb4fb58b8036ccdf531bef": {
          "model_module": "@jupyter-widgets/controls",
          "model_name": "FloatProgressModel",
          "model_module_version": "1.5.0",
          "state": {
            "_dom_classes": [],
            "_model_module": "@jupyter-widgets/controls",
            "_model_module_version": "1.5.0",
            "_model_name": "FloatProgressModel",
            "_view_count": null,
            "_view_module": "@jupyter-widgets/controls",
            "_view_module_version": "1.5.0",
            "_view_name": "ProgressView",
            "bar_style": "success",
            "description": "",
            "description_tooltip": null,
            "layout": "IPY_MODEL_a58922bfb345452ab7d5b9bac98cdce3",
            "max": 85707,
            "min": 0,
            "orientation": "horizontal",
            "style": "IPY_MODEL_f7a8239e7aad446d90f55dc3a4689e3f",
            "value": 85707
          }
        },
        "5bd722ea62554dfa9c3f2defd20ea73d": {
          "model_module": "@jupyter-widgets/controls",
          "model_name": "HTMLModel",
          "model_module_version": "1.5.0",
          "state": {
            "_dom_classes": [],
            "_model_module": "@jupyter-widgets/controls",
            "_model_module_version": "1.5.0",
            "_model_name": "HTMLModel",
            "_view_count": null,
            "_view_module": "@jupyter-widgets/controls",
            "_view_module_version": "1.5.0",
            "_view_name": "HTMLView",
            "description": "",
            "description_tooltip": null,
            "layout": "IPY_MODEL_758b34d9d8574b47abf39c2b1b950107",
            "placeholder": "​",
            "style": "IPY_MODEL_8f456c19476644b4acba633aefb9649e",
            "value": " 85.7k/85.7k [00:00&lt;00:00, 1.66MB/s]"
          }
        },
        "34000ecefefe4decb3201ce180547bf5": {
          "model_module": "@jupyter-widgets/base",
          "model_name": "LayoutModel",
          "model_module_version": "1.2.0",
          "state": {
            "_model_module": "@jupyter-widgets/base",
            "_model_module_version": "1.2.0",
            "_model_name": "LayoutModel",
            "_view_count": null,
            "_view_module": "@jupyter-widgets/base",
            "_view_module_version": "1.2.0",
            "_view_name": "LayoutView",
            "align_content": null,
            "align_items": null,
            "align_self": null,
            "border": null,
            "bottom": null,
            "display": null,
            "flex": null,
            "flex_flow": null,
            "grid_area": null,
            "grid_auto_columns": null,
            "grid_auto_flow": null,
            "grid_auto_rows": null,
            "grid_column": null,
            "grid_gap": null,
            "grid_row": null,
            "grid_template_areas": null,
            "grid_template_columns": null,
            "grid_template_rows": null,
            "height": null,
            "justify_content": null,
            "justify_items": null,
            "left": null,
            "margin": null,
            "max_height": null,
            "max_width": null,
            "min_height": null,
            "min_width": null,
            "object_fit": null,
            "object_position": null,
            "order": null,
            "overflow": null,
            "overflow_x": null,
            "overflow_y": null,
            "padding": null,
            "right": null,
            "top": null,
            "visibility": null,
            "width": null
          }
        },
        "529ced80ac0748ffa584e203734df20e": {
          "model_module": "@jupyter-widgets/base",
          "model_name": "LayoutModel",
          "model_module_version": "1.2.0",
          "state": {
            "_model_module": "@jupyter-widgets/base",
            "_model_module_version": "1.2.0",
            "_model_name": "LayoutModel",
            "_view_count": null,
            "_view_module": "@jupyter-widgets/base",
            "_view_module_version": "1.2.0",
            "_view_name": "LayoutView",
            "align_content": null,
            "align_items": null,
            "align_self": null,
            "border": null,
            "bottom": null,
            "display": null,
            "flex": null,
            "flex_flow": null,
            "grid_area": null,
            "grid_auto_columns": null,
            "grid_auto_flow": null,
            "grid_auto_rows": null,
            "grid_column": null,
            "grid_gap": null,
            "grid_row": null,
            "grid_template_areas": null,
            "grid_template_columns": null,
            "grid_template_rows": null,
            "height": null,
            "justify_content": null,
            "justify_items": null,
            "left": null,
            "margin": null,
            "max_height": null,
            "max_width": null,
            "min_height": null,
            "min_width": null,
            "object_fit": null,
            "object_position": null,
            "order": null,
            "overflow": null,
            "overflow_x": null,
            "overflow_y": null,
            "padding": null,
            "right": null,
            "top": null,
            "visibility": null,
            "width": null
          }
        },
        "e445f50ff53b435a9bb1024db2b3fc8d": {
          "model_module": "@jupyter-widgets/controls",
          "model_name": "DescriptionStyleModel",
          "model_module_version": "1.5.0",
          "state": {
            "_model_module": "@jupyter-widgets/controls",
            "_model_module_version": "1.5.0",
            "_model_name": "DescriptionStyleModel",
            "_view_count": null,
            "_view_module": "@jupyter-widgets/base",
            "_view_module_version": "1.2.0",
            "_view_name": "StyleView",
            "description_width": ""
          }
        },
        "a58922bfb345452ab7d5b9bac98cdce3": {
          "model_module": "@jupyter-widgets/base",
          "model_name": "LayoutModel",
          "model_module_version": "1.2.0",
          "state": {
            "_model_module": "@jupyter-widgets/base",
            "_model_module_version": "1.2.0",
            "_model_name": "LayoutModel",
            "_view_count": null,
            "_view_module": "@jupyter-widgets/base",
            "_view_module_version": "1.2.0",
            "_view_name": "LayoutView",
            "align_content": null,
            "align_items": null,
            "align_self": null,
            "border": null,
            "bottom": null,
            "display": null,
            "flex": null,
            "flex_flow": null,
            "grid_area": null,
            "grid_auto_columns": null,
            "grid_auto_flow": null,
            "grid_auto_rows": null,
            "grid_column": null,
            "grid_gap": null,
            "grid_row": null,
            "grid_template_areas": null,
            "grid_template_columns": null,
            "grid_template_rows": null,
            "height": null,
            "justify_content": null,
            "justify_items": null,
            "left": null,
            "margin": null,
            "max_height": null,
            "max_width": null,
            "min_height": null,
            "min_width": null,
            "object_fit": null,
            "object_position": null,
            "order": null,
            "overflow": null,
            "overflow_x": null,
            "overflow_y": null,
            "padding": null,
            "right": null,
            "top": null,
            "visibility": null,
            "width": null
          }
        },
        "f7a8239e7aad446d90f55dc3a4689e3f": {
          "model_module": "@jupyter-widgets/controls",
          "model_name": "ProgressStyleModel",
          "model_module_version": "1.5.0",
          "state": {
            "_model_module": "@jupyter-widgets/controls",
            "_model_module_version": "1.5.0",
            "_model_name": "ProgressStyleModel",
            "_view_count": null,
            "_view_module": "@jupyter-widgets/base",
            "_view_module_version": "1.2.0",
            "_view_name": "StyleView",
            "bar_color": null,
            "description_width": ""
          }
        },
        "758b34d9d8574b47abf39c2b1b950107": {
          "model_module": "@jupyter-widgets/base",
          "model_name": "LayoutModel",
          "model_module_version": "1.2.0",
          "state": {
            "_model_module": "@jupyter-widgets/base",
            "_model_module_version": "1.2.0",
            "_model_name": "LayoutModel",
            "_view_count": null,
            "_view_module": "@jupyter-widgets/base",
            "_view_module_version": "1.2.0",
            "_view_name": "LayoutView",
            "align_content": null,
            "align_items": null,
            "align_self": null,
            "border": null,
            "bottom": null,
            "display": null,
            "flex": null,
            "flex_flow": null,
            "grid_area": null,
            "grid_auto_columns": null,
            "grid_auto_flow": null,
            "grid_auto_rows": null,
            "grid_column": null,
            "grid_gap": null,
            "grid_row": null,
            "grid_template_areas": null,
            "grid_template_columns": null,
            "grid_template_rows": null,
            "height": null,
            "justify_content": null,
            "justify_items": null,
            "left": null,
            "margin": null,
            "max_height": null,
            "max_width": null,
            "min_height": null,
            "min_width": null,
            "object_fit": null,
            "object_position": null,
            "order": null,
            "overflow": null,
            "overflow_x": null,
            "overflow_y": null,
            "padding": null,
            "right": null,
            "top": null,
            "visibility": null,
            "width": null
          }
        },
        "8f456c19476644b4acba633aefb9649e": {
          "model_module": "@jupyter-widgets/controls",
          "model_name": "DescriptionStyleModel",
          "model_module_version": "1.5.0",
          "state": {
            "_model_module": "@jupyter-widgets/controls",
            "_model_module_version": "1.5.0",
            "_model_name": "DescriptionStyleModel",
            "_view_count": null,
            "_view_module": "@jupyter-widgets/base",
            "_view_module_version": "1.2.0",
            "_view_name": "StyleView",
            "description_width": ""
          }
        },
        "c2699fe61a1d4d25b9abb0fc70ccaeaf": {
          "model_module": "@jupyter-widgets/controls",
          "model_name": "HBoxModel",
          "model_module_version": "1.5.0",
          "state": {
            "_dom_classes": [],
            "_model_module": "@jupyter-widgets/controls",
            "_model_module_version": "1.5.0",
            "_model_name": "HBoxModel",
            "_view_count": null,
            "_view_module": "@jupyter-widgets/controls",
            "_view_module_version": "1.5.0",
            "_view_name": "HBoxView",
            "box_style": "",
            "children": [
              "IPY_MODEL_53ef1569886b4b8986155a926da3aac3",
              "IPY_MODEL_d5d2e04df10941f5922b62d99660bf78",
              "IPY_MODEL_98333323f06a4d5b84d795bf108678d7"
            ],
            "layout": "IPY_MODEL_eab0e9b75d3f4ebfae99fd2fb153d220"
          }
        },
        "53ef1569886b4b8986155a926da3aac3": {
          "model_module": "@jupyter-widgets/controls",
          "model_name": "HTMLModel",
          "model_module_version": "1.5.0",
          "state": {
            "_dom_classes": [],
            "_model_module": "@jupyter-widgets/controls",
            "_model_module_version": "1.5.0",
            "_model_name": "HTMLModel",
            "_view_count": null,
            "_view_module": "@jupyter-widgets/controls",
            "_view_module_version": "1.5.0",
            "_view_name": "HTMLView",
            "description": "",
            "description_tooltip": null,
            "layout": "IPY_MODEL_145970a32b8944eb966bcc1ca9b0cd8b",
            "placeholder": "​",
            "style": "IPY_MODEL_6e7aaf9a8aed4c4383a35a38f05fa023",
            "value": "Downloading: 100%"
          }
        },
        "d5d2e04df10941f5922b62d99660bf78": {
          "model_module": "@jupyter-widgets/controls",
          "model_name": "FloatProgressModel",
          "model_module_version": "1.5.0",
          "state": {
            "_dom_classes": [],
            "_model_module": "@jupyter-widgets/controls",
            "_model_module_version": "1.5.0",
            "_model_name": "FloatProgressModel",
            "_view_count": null,
            "_view_module": "@jupyter-widgets/controls",
            "_view_module_version": "1.5.0",
            "_view_name": "ProgressView",
            "bar_style": "success",
            "description": "",
            "description_tooltip": null,
            "layout": "IPY_MODEL_5046eef5279d47e5afa27500bdfef93c",
            "max": 189602204,
            "min": 0,
            "orientation": "horizontal",
            "style": "IPY_MODEL_4603fd28ae974ed2affcbb2214505b76",
            "value": 189602204
          }
        },
        "98333323f06a4d5b84d795bf108678d7": {
          "model_module": "@jupyter-widgets/controls",
          "model_name": "HTMLModel",
          "model_module_version": "1.5.0",
          "state": {
            "_dom_classes": [],
            "_model_module": "@jupyter-widgets/controls",
            "_model_module_version": "1.5.0",
            "_model_name": "HTMLModel",
            "_view_count": null,
            "_view_module": "@jupyter-widgets/controls",
            "_view_module_version": "1.5.0",
            "_view_name": "HTMLView",
            "description": "",
            "description_tooltip": null,
            "layout": "IPY_MODEL_c2b66177b5024fbf8ca4a110a7fa792e",
            "placeholder": "​",
            "style": "IPY_MODEL_1639145468af4c9ea703ea586771bfbc",
            "value": " 190M/190M [00:04&lt;00:00, 61.0MB/s]"
          }
        },
        "eab0e9b75d3f4ebfae99fd2fb153d220": {
          "model_module": "@jupyter-widgets/base",
          "model_name": "LayoutModel",
          "model_module_version": "1.2.0",
          "state": {
            "_model_module": "@jupyter-widgets/base",
            "_model_module_version": "1.2.0",
            "_model_name": "LayoutModel",
            "_view_count": null,
            "_view_module": "@jupyter-widgets/base",
            "_view_module_version": "1.2.0",
            "_view_name": "LayoutView",
            "align_content": null,
            "align_items": null,
            "align_self": null,
            "border": null,
            "bottom": null,
            "display": null,
            "flex": null,
            "flex_flow": null,
            "grid_area": null,
            "grid_auto_columns": null,
            "grid_auto_flow": null,
            "grid_auto_rows": null,
            "grid_column": null,
            "grid_gap": null,
            "grid_row": null,
            "grid_template_areas": null,
            "grid_template_columns": null,
            "grid_template_rows": null,
            "height": null,
            "justify_content": null,
            "justify_items": null,
            "left": null,
            "margin": null,
            "max_height": null,
            "max_width": null,
            "min_height": null,
            "min_width": null,
            "object_fit": null,
            "object_position": null,
            "order": null,
            "overflow": null,
            "overflow_x": null,
            "overflow_y": null,
            "padding": null,
            "right": null,
            "top": null,
            "visibility": null,
            "width": null
          }
        },
        "145970a32b8944eb966bcc1ca9b0cd8b": {
          "model_module": "@jupyter-widgets/base",
          "model_name": "LayoutModel",
          "model_module_version": "1.2.0",
          "state": {
            "_model_module": "@jupyter-widgets/base",
            "_model_module_version": "1.2.0",
            "_model_name": "LayoutModel",
            "_view_count": null,
            "_view_module": "@jupyter-widgets/base",
            "_view_module_version": "1.2.0",
            "_view_name": "LayoutView",
            "align_content": null,
            "align_items": null,
            "align_self": null,
            "border": null,
            "bottom": null,
            "display": null,
            "flex": null,
            "flex_flow": null,
            "grid_area": null,
            "grid_auto_columns": null,
            "grid_auto_flow": null,
            "grid_auto_rows": null,
            "grid_column": null,
            "grid_gap": null,
            "grid_row": null,
            "grid_template_areas": null,
            "grid_template_columns": null,
            "grid_template_rows": null,
            "height": null,
            "justify_content": null,
            "justify_items": null,
            "left": null,
            "margin": null,
            "max_height": null,
            "max_width": null,
            "min_height": null,
            "min_width": null,
            "object_fit": null,
            "object_position": null,
            "order": null,
            "overflow": null,
            "overflow_x": null,
            "overflow_y": null,
            "padding": null,
            "right": null,
            "top": null,
            "visibility": null,
            "width": null
          }
        },
        "6e7aaf9a8aed4c4383a35a38f05fa023": {
          "model_module": "@jupyter-widgets/controls",
          "model_name": "DescriptionStyleModel",
          "model_module_version": "1.5.0",
          "state": {
            "_model_module": "@jupyter-widgets/controls",
            "_model_module_version": "1.5.0",
            "_model_name": "DescriptionStyleModel",
            "_view_count": null,
            "_view_module": "@jupyter-widgets/base",
            "_view_module_version": "1.2.0",
            "_view_name": "StyleView",
            "description_width": ""
          }
        },
        "5046eef5279d47e5afa27500bdfef93c": {
          "model_module": "@jupyter-widgets/base",
          "model_name": "LayoutModel",
          "model_module_version": "1.2.0",
          "state": {
            "_model_module": "@jupyter-widgets/base",
            "_model_module_version": "1.2.0",
            "_model_name": "LayoutModel",
            "_view_count": null,
            "_view_module": "@jupyter-widgets/base",
            "_view_module_version": "1.2.0",
            "_view_name": "LayoutView",
            "align_content": null,
            "align_items": null,
            "align_self": null,
            "border": null,
            "bottom": null,
            "display": null,
            "flex": null,
            "flex_flow": null,
            "grid_area": null,
            "grid_auto_columns": null,
            "grid_auto_flow": null,
            "grid_auto_rows": null,
            "grid_column": null,
            "grid_gap": null,
            "grid_row": null,
            "grid_template_areas": null,
            "grid_template_columns": null,
            "grid_template_rows": null,
            "height": null,
            "justify_content": null,
            "justify_items": null,
            "left": null,
            "margin": null,
            "max_height": null,
            "max_width": null,
            "min_height": null,
            "min_width": null,
            "object_fit": null,
            "object_position": null,
            "order": null,
            "overflow": null,
            "overflow_x": null,
            "overflow_y": null,
            "padding": null,
            "right": null,
            "top": null,
            "visibility": null,
            "width": null
          }
        },
        "4603fd28ae974ed2affcbb2214505b76": {
          "model_module": "@jupyter-widgets/controls",
          "model_name": "ProgressStyleModel",
          "model_module_version": "1.5.0",
          "state": {
            "_model_module": "@jupyter-widgets/controls",
            "_model_module_version": "1.5.0",
            "_model_name": "ProgressStyleModel",
            "_view_count": null,
            "_view_module": "@jupyter-widgets/base",
            "_view_module_version": "1.2.0",
            "_view_name": "StyleView",
            "bar_color": null,
            "description_width": ""
          }
        },
        "c2b66177b5024fbf8ca4a110a7fa792e": {
          "model_module": "@jupyter-widgets/base",
          "model_name": "LayoutModel",
          "model_module_version": "1.2.0",
          "state": {
            "_model_module": "@jupyter-widgets/base",
            "_model_module_version": "1.2.0",
            "_model_name": "LayoutModel",
            "_view_count": null,
            "_view_module": "@jupyter-widgets/base",
            "_view_module_version": "1.2.0",
            "_view_name": "LayoutView",
            "align_content": null,
            "align_items": null,
            "align_self": null,
            "border": null,
            "bottom": null,
            "display": null,
            "flex": null,
            "flex_flow": null,
            "grid_area": null,
            "grid_auto_columns": null,
            "grid_auto_flow": null,
            "grid_auto_rows": null,
            "grid_column": null,
            "grid_gap": null,
            "grid_row": null,
            "grid_template_areas": null,
            "grid_template_columns": null,
            "grid_template_rows": null,
            "height": null,
            "justify_content": null,
            "justify_items": null,
            "left": null,
            "margin": null,
            "max_height": null,
            "max_width": null,
            "min_height": null,
            "min_width": null,
            "object_fit": null,
            "object_position": null,
            "order": null,
            "overflow": null,
            "overflow_x": null,
            "overflow_y": null,
            "padding": null,
            "right": null,
            "top": null,
            "visibility": null,
            "width": null
          }
        },
        "1639145468af4c9ea703ea586771bfbc": {
          "model_module": "@jupyter-widgets/controls",
          "model_name": "DescriptionStyleModel",
          "model_module_version": "1.5.0",
          "state": {
            "_model_module": "@jupyter-widgets/controls",
            "_model_module_version": "1.5.0",
            "_model_name": "DescriptionStyleModel",
            "_view_count": null,
            "_view_module": "@jupyter-widgets/base",
            "_view_module_version": "1.2.0",
            "_view_name": "StyleView",
            "description_width": ""
          }
        },
        "67f16bca68304855a6583d0bead9035d": {
          "model_module": "@jupyter-widgets/controls",
          "model_name": "HBoxModel",
          "model_module_version": "1.5.0",
          "state": {
            "_dom_classes": [],
            "_model_module": "@jupyter-widgets/controls",
            "_model_module_version": "1.5.0",
            "_model_name": "HBoxModel",
            "_view_count": null,
            "_view_module": "@jupyter-widgets/controls",
            "_view_module_version": "1.5.0",
            "_view_name": "HBoxView",
            "box_style": "",
            "children": [
              "IPY_MODEL_ced726c23bba439ca2eedde83374fdd0",
              "IPY_MODEL_af90bbbfeeac49989aa302313bbf8f1e",
              "IPY_MODEL_977d68879709416c9c7a0150a4082951"
            ],
            "layout": "IPY_MODEL_f3fa633ca2ba43188de272204fa33b4c"
          }
        },
        "ced726c23bba439ca2eedde83374fdd0": {
          "model_module": "@jupyter-widgets/controls",
          "model_name": "HTMLModel",
          "model_module_version": "1.5.0",
          "state": {
            "_dom_classes": [],
            "_model_module": "@jupyter-widgets/controls",
            "_model_module_version": "1.5.0",
            "_model_name": "HTMLModel",
            "_view_count": null,
            "_view_module": "@jupyter-widgets/controls",
            "_view_module_version": "1.5.0",
            "_view_name": "HTMLView",
            "description": "",
            "description_tooltip": null,
            "layout": "IPY_MODEL_c17363ef488f4f26aabebaf48bec389e",
            "placeholder": "​",
            "style": "IPY_MODEL_5618480ffa184b33aaefbd90b20c060a",
            "value": "100%"
          }
        },
        "af90bbbfeeac49989aa302313bbf8f1e": {
          "model_module": "@jupyter-widgets/controls",
          "model_name": "FloatProgressModel",
          "model_module_version": "1.5.0",
          "state": {
            "_dom_classes": [],
            "_model_module": "@jupyter-widgets/controls",
            "_model_module_version": "1.5.0",
            "_model_name": "FloatProgressModel",
            "_view_count": null,
            "_view_module": "@jupyter-widgets/controls",
            "_view_module_version": "1.5.0",
            "_view_name": "ProgressView",
            "bar_style": "success",
            "description": "",
            "description_tooltip": null,
            "layout": "IPY_MODEL_43f5f8111dd548b792cd36bf865f4591",
            "max": 3,
            "min": 0,
            "orientation": "horizontal",
            "style": "IPY_MODEL_e6ef6903a9614df9a5c05377e5cd2626",
            "value": 3
          }
        },
        "977d68879709416c9c7a0150a4082951": {
          "model_module": "@jupyter-widgets/controls",
          "model_name": "HTMLModel",
          "model_module_version": "1.5.0",
          "state": {
            "_dom_classes": [],
            "_model_module": "@jupyter-widgets/controls",
            "_model_module_version": "1.5.0",
            "_model_name": "HTMLModel",
            "_view_count": null,
            "_view_module": "@jupyter-widgets/controls",
            "_view_module_version": "1.5.0",
            "_view_name": "HTMLView",
            "description": "",
            "description_tooltip": null,
            "layout": "IPY_MODEL_ebee9a278c5a44e8a92bbed273df70fa",
            "placeholder": "​",
            "style": "IPY_MODEL_61e6e826b20b4370b7a8786c7b9f7a0f",
            "value": " 3/3 [00:00&lt;00:00, 100.90it/s]"
          }
        },
        "f3fa633ca2ba43188de272204fa33b4c": {
          "model_module": "@jupyter-widgets/base",
          "model_name": "LayoutModel",
          "model_module_version": "1.2.0",
          "state": {
            "_model_module": "@jupyter-widgets/base",
            "_model_module_version": "1.2.0",
            "_model_name": "LayoutModel",
            "_view_count": null,
            "_view_module": "@jupyter-widgets/base",
            "_view_module_version": "1.2.0",
            "_view_name": "LayoutView",
            "align_content": null,
            "align_items": null,
            "align_self": null,
            "border": null,
            "bottom": null,
            "display": null,
            "flex": null,
            "flex_flow": null,
            "grid_area": null,
            "grid_auto_columns": null,
            "grid_auto_flow": null,
            "grid_auto_rows": null,
            "grid_column": null,
            "grid_gap": null,
            "grid_row": null,
            "grid_template_areas": null,
            "grid_template_columns": null,
            "grid_template_rows": null,
            "height": null,
            "justify_content": null,
            "justify_items": null,
            "left": null,
            "margin": null,
            "max_height": null,
            "max_width": null,
            "min_height": null,
            "min_width": null,
            "object_fit": null,
            "object_position": null,
            "order": null,
            "overflow": null,
            "overflow_x": null,
            "overflow_y": null,
            "padding": null,
            "right": null,
            "top": null,
            "visibility": null,
            "width": null
          }
        },
        "c17363ef488f4f26aabebaf48bec389e": {
          "model_module": "@jupyter-widgets/base",
          "model_name": "LayoutModel",
          "model_module_version": "1.2.0",
          "state": {
            "_model_module": "@jupyter-widgets/base",
            "_model_module_version": "1.2.0",
            "_model_name": "LayoutModel",
            "_view_count": null,
            "_view_module": "@jupyter-widgets/base",
            "_view_module_version": "1.2.0",
            "_view_name": "LayoutView",
            "align_content": null,
            "align_items": null,
            "align_self": null,
            "border": null,
            "bottom": null,
            "display": null,
            "flex": null,
            "flex_flow": null,
            "grid_area": null,
            "grid_auto_columns": null,
            "grid_auto_flow": null,
            "grid_auto_rows": null,
            "grid_column": null,
            "grid_gap": null,
            "grid_row": null,
            "grid_template_areas": null,
            "grid_template_columns": null,
            "grid_template_rows": null,
            "height": null,
            "justify_content": null,
            "justify_items": null,
            "left": null,
            "margin": null,
            "max_height": null,
            "max_width": null,
            "min_height": null,
            "min_width": null,
            "object_fit": null,
            "object_position": null,
            "order": null,
            "overflow": null,
            "overflow_x": null,
            "overflow_y": null,
            "padding": null,
            "right": null,
            "top": null,
            "visibility": null,
            "width": null
          }
        },
        "5618480ffa184b33aaefbd90b20c060a": {
          "model_module": "@jupyter-widgets/controls",
          "model_name": "DescriptionStyleModel",
          "model_module_version": "1.5.0",
          "state": {
            "_model_module": "@jupyter-widgets/controls",
            "_model_module_version": "1.5.0",
            "_model_name": "DescriptionStyleModel",
            "_view_count": null,
            "_view_module": "@jupyter-widgets/base",
            "_view_module_version": "1.2.0",
            "_view_name": "StyleView",
            "description_width": ""
          }
        },
        "43f5f8111dd548b792cd36bf865f4591": {
          "model_module": "@jupyter-widgets/base",
          "model_name": "LayoutModel",
          "model_module_version": "1.2.0",
          "state": {
            "_model_module": "@jupyter-widgets/base",
            "_model_module_version": "1.2.0",
            "_model_name": "LayoutModel",
            "_view_count": null,
            "_view_module": "@jupyter-widgets/base",
            "_view_module_version": "1.2.0",
            "_view_name": "LayoutView",
            "align_content": null,
            "align_items": null,
            "align_self": null,
            "border": null,
            "bottom": null,
            "display": null,
            "flex": null,
            "flex_flow": null,
            "grid_area": null,
            "grid_auto_columns": null,
            "grid_auto_flow": null,
            "grid_auto_rows": null,
            "grid_column": null,
            "grid_gap": null,
            "grid_row": null,
            "grid_template_areas": null,
            "grid_template_columns": null,
            "grid_template_rows": null,
            "height": null,
            "justify_content": null,
            "justify_items": null,
            "left": null,
            "margin": null,
            "max_height": null,
            "max_width": null,
            "min_height": null,
            "min_width": null,
            "object_fit": null,
            "object_position": null,
            "order": null,
            "overflow": null,
            "overflow_x": null,
            "overflow_y": null,
            "padding": null,
            "right": null,
            "top": null,
            "visibility": null,
            "width": null
          }
        },
        "e6ef6903a9614df9a5c05377e5cd2626": {
          "model_module": "@jupyter-widgets/controls",
          "model_name": "ProgressStyleModel",
          "model_module_version": "1.5.0",
          "state": {
            "_model_module": "@jupyter-widgets/controls",
            "_model_module_version": "1.5.0",
            "_model_name": "ProgressStyleModel",
            "_view_count": null,
            "_view_module": "@jupyter-widgets/base",
            "_view_module_version": "1.2.0",
            "_view_name": "StyleView",
            "bar_color": null,
            "description_width": ""
          }
        },
        "ebee9a278c5a44e8a92bbed273df70fa": {
          "model_module": "@jupyter-widgets/base",
          "model_name": "LayoutModel",
          "model_module_version": "1.2.0",
          "state": {
            "_model_module": "@jupyter-widgets/base",
            "_model_module_version": "1.2.0",
            "_model_name": "LayoutModel",
            "_view_count": null,
            "_view_module": "@jupyter-widgets/base",
            "_view_module_version": "1.2.0",
            "_view_name": "LayoutView",
            "align_content": null,
            "align_items": null,
            "align_self": null,
            "border": null,
            "bottom": null,
            "display": null,
            "flex": null,
            "flex_flow": null,
            "grid_area": null,
            "grid_auto_columns": null,
            "grid_auto_flow": null,
            "grid_auto_rows": null,
            "grid_column": null,
            "grid_gap": null,
            "grid_row": null,
            "grid_template_areas": null,
            "grid_template_columns": null,
            "grid_template_rows": null,
            "height": null,
            "justify_content": null,
            "justify_items": null,
            "left": null,
            "margin": null,
            "max_height": null,
            "max_width": null,
            "min_height": null,
            "min_width": null,
            "object_fit": null,
            "object_position": null,
            "order": null,
            "overflow": null,
            "overflow_x": null,
            "overflow_y": null,
            "padding": null,
            "right": null,
            "top": null,
            "visibility": null,
            "width": null
          }
        },
        "61e6e826b20b4370b7a8786c7b9f7a0f": {
          "model_module": "@jupyter-widgets/controls",
          "model_name": "DescriptionStyleModel",
          "model_module_version": "1.5.0",
          "state": {
            "_model_module": "@jupyter-widgets/controls",
            "_model_module_version": "1.5.0",
            "_model_name": "DescriptionStyleModel",
            "_view_count": null,
            "_view_module": "@jupyter-widgets/base",
            "_view_module_version": "1.2.0",
            "_view_name": "StyleView",
            "description_width": ""
          }
        },
        "b1c96fd7db264a518bd73c43491d3e83": {
          "model_module": "@jupyter-widgets/controls",
          "model_name": "HBoxModel",
          "model_module_version": "1.5.0",
          "state": {
            "_dom_classes": [],
            "_model_module": "@jupyter-widgets/controls",
            "_model_module_version": "1.5.0",
            "_model_name": "HBoxModel",
            "_view_count": null,
            "_view_module": "@jupyter-widgets/controls",
            "_view_module_version": "1.5.0",
            "_view_name": "HBoxView",
            "box_style": "",
            "children": [
              "IPY_MODEL_7ab1bb82a269464b9c0982b03d2d1033",
              "IPY_MODEL_4eba86cf564f47d9851b5d7c0cf93617",
              "IPY_MODEL_842580351f974df8bd773e33dbdda4de"
            ],
            "layout": "IPY_MODEL_5e945072dd8a4c029f3a3ffa7d8fb673"
          }
        },
        "7ab1bb82a269464b9c0982b03d2d1033": {
          "model_module": "@jupyter-widgets/controls",
          "model_name": "HTMLModel",
          "model_module_version": "1.5.0",
          "state": {
            "_dom_classes": [],
            "_model_module": "@jupyter-widgets/controls",
            "_model_module_version": "1.5.0",
            "_model_name": "HTMLModel",
            "_view_count": null,
            "_view_module": "@jupyter-widgets/controls",
            "_view_module_version": "1.5.0",
            "_view_name": "HTMLView",
            "description": "",
            "description_tooltip": null,
            "layout": "IPY_MODEL_7e807b17421b47e888b0d981d8912594",
            "placeholder": "​",
            "style": "IPY_MODEL_3e0bfe8ede754fa4b86fbd0edd93d60f",
            "value": "100%"
          }
        },
        "4eba86cf564f47d9851b5d7c0cf93617": {
          "model_module": "@jupyter-widgets/controls",
          "model_name": "FloatProgressModel",
          "model_module_version": "1.5.0",
          "state": {
            "_dom_classes": [],
            "_model_module": "@jupyter-widgets/controls",
            "_model_module_version": "1.5.0",
            "_model_name": "FloatProgressModel",
            "_view_count": null,
            "_view_module": "@jupyter-widgets/controls",
            "_view_module_version": "1.5.0",
            "_view_name": "ProgressView",
            "bar_style": "success",
            "description": "",
            "description_tooltip": null,
            "layout": "IPY_MODEL_e6cf56e11ca8445cac11201ffdf97426",
            "max": 3,
            "min": 0,
            "orientation": "horizontal",
            "style": "IPY_MODEL_c446e145f7c2469a9c812421db69ec89",
            "value": 3
          }
        },
        "842580351f974df8bd773e33dbdda4de": {
          "model_module": "@jupyter-widgets/controls",
          "model_name": "HTMLModel",
          "model_module_version": "1.5.0",
          "state": {
            "_dom_classes": [],
            "_model_module": "@jupyter-widgets/controls",
            "_model_module_version": "1.5.0",
            "_model_name": "HTMLModel",
            "_view_count": null,
            "_view_module": "@jupyter-widgets/controls",
            "_view_module_version": "1.5.0",
            "_view_name": "HTMLView",
            "description": "",
            "description_tooltip": null,
            "layout": "IPY_MODEL_914de372374e42a088d2ee5980ff1c99",
            "placeholder": "​",
            "style": "IPY_MODEL_17eec2569f274a36951521b44021f829",
            "value": " 3/3 [00:00&lt;00:00, 93.24it/s]"
          }
        },
        "5e945072dd8a4c029f3a3ffa7d8fb673": {
          "model_module": "@jupyter-widgets/base",
          "model_name": "LayoutModel",
          "model_module_version": "1.2.0",
          "state": {
            "_model_module": "@jupyter-widgets/base",
            "_model_module_version": "1.2.0",
            "_model_name": "LayoutModel",
            "_view_count": null,
            "_view_module": "@jupyter-widgets/base",
            "_view_module_version": "1.2.0",
            "_view_name": "LayoutView",
            "align_content": null,
            "align_items": null,
            "align_self": null,
            "border": null,
            "bottom": null,
            "display": null,
            "flex": null,
            "flex_flow": null,
            "grid_area": null,
            "grid_auto_columns": null,
            "grid_auto_flow": null,
            "grid_auto_rows": null,
            "grid_column": null,
            "grid_gap": null,
            "grid_row": null,
            "grid_template_areas": null,
            "grid_template_columns": null,
            "grid_template_rows": null,
            "height": null,
            "justify_content": null,
            "justify_items": null,
            "left": null,
            "margin": null,
            "max_height": null,
            "max_width": null,
            "min_height": null,
            "min_width": null,
            "object_fit": null,
            "object_position": null,
            "order": null,
            "overflow": null,
            "overflow_x": null,
            "overflow_y": null,
            "padding": null,
            "right": null,
            "top": null,
            "visibility": null,
            "width": null
          }
        },
        "7e807b17421b47e888b0d981d8912594": {
          "model_module": "@jupyter-widgets/base",
          "model_name": "LayoutModel",
          "model_module_version": "1.2.0",
          "state": {
            "_model_module": "@jupyter-widgets/base",
            "_model_module_version": "1.2.0",
            "_model_name": "LayoutModel",
            "_view_count": null,
            "_view_module": "@jupyter-widgets/base",
            "_view_module_version": "1.2.0",
            "_view_name": "LayoutView",
            "align_content": null,
            "align_items": null,
            "align_self": null,
            "border": null,
            "bottom": null,
            "display": null,
            "flex": null,
            "flex_flow": null,
            "grid_area": null,
            "grid_auto_columns": null,
            "grid_auto_flow": null,
            "grid_auto_rows": null,
            "grid_column": null,
            "grid_gap": null,
            "grid_row": null,
            "grid_template_areas": null,
            "grid_template_columns": null,
            "grid_template_rows": null,
            "height": null,
            "justify_content": null,
            "justify_items": null,
            "left": null,
            "margin": null,
            "max_height": null,
            "max_width": null,
            "min_height": null,
            "min_width": null,
            "object_fit": null,
            "object_position": null,
            "order": null,
            "overflow": null,
            "overflow_x": null,
            "overflow_y": null,
            "padding": null,
            "right": null,
            "top": null,
            "visibility": null,
            "width": null
          }
        },
        "3e0bfe8ede754fa4b86fbd0edd93d60f": {
          "model_module": "@jupyter-widgets/controls",
          "model_name": "DescriptionStyleModel",
          "model_module_version": "1.5.0",
          "state": {
            "_model_module": "@jupyter-widgets/controls",
            "_model_module_version": "1.5.0",
            "_model_name": "DescriptionStyleModel",
            "_view_count": null,
            "_view_module": "@jupyter-widgets/base",
            "_view_module_version": "1.2.0",
            "_view_name": "StyleView",
            "description_width": ""
          }
        },
        "e6cf56e11ca8445cac11201ffdf97426": {
          "model_module": "@jupyter-widgets/base",
          "model_name": "LayoutModel",
          "model_module_version": "1.2.0",
          "state": {
            "_model_module": "@jupyter-widgets/base",
            "_model_module_version": "1.2.0",
            "_model_name": "LayoutModel",
            "_view_count": null,
            "_view_module": "@jupyter-widgets/base",
            "_view_module_version": "1.2.0",
            "_view_name": "LayoutView",
            "align_content": null,
            "align_items": null,
            "align_self": null,
            "border": null,
            "bottom": null,
            "display": null,
            "flex": null,
            "flex_flow": null,
            "grid_area": null,
            "grid_auto_columns": null,
            "grid_auto_flow": null,
            "grid_auto_rows": null,
            "grid_column": null,
            "grid_gap": null,
            "grid_row": null,
            "grid_template_areas": null,
            "grid_template_columns": null,
            "grid_template_rows": null,
            "height": null,
            "justify_content": null,
            "justify_items": null,
            "left": null,
            "margin": null,
            "max_height": null,
            "max_width": null,
            "min_height": null,
            "min_width": null,
            "object_fit": null,
            "object_position": null,
            "order": null,
            "overflow": null,
            "overflow_x": null,
            "overflow_y": null,
            "padding": null,
            "right": null,
            "top": null,
            "visibility": null,
            "width": null
          }
        },
        "c446e145f7c2469a9c812421db69ec89": {
          "model_module": "@jupyter-widgets/controls",
          "model_name": "ProgressStyleModel",
          "model_module_version": "1.5.0",
          "state": {
            "_model_module": "@jupyter-widgets/controls",
            "_model_module_version": "1.5.0",
            "_model_name": "ProgressStyleModel",
            "_view_count": null,
            "_view_module": "@jupyter-widgets/base",
            "_view_module_version": "1.2.0",
            "_view_name": "StyleView",
            "bar_color": null,
            "description_width": ""
          }
        },
        "914de372374e42a088d2ee5980ff1c99": {
          "model_module": "@jupyter-widgets/base",
          "model_name": "LayoutModel",
          "model_module_version": "1.2.0",
          "state": {
            "_model_module": "@jupyter-widgets/base",
            "_model_module_version": "1.2.0",
            "_model_name": "LayoutModel",
            "_view_count": null,
            "_view_module": "@jupyter-widgets/base",
            "_view_module_version": "1.2.0",
            "_view_name": "LayoutView",
            "align_content": null,
            "align_items": null,
            "align_self": null,
            "border": null,
            "bottom": null,
            "display": null,
            "flex": null,
            "flex_flow": null,
            "grid_area": null,
            "grid_auto_columns": null,
            "grid_auto_flow": null,
            "grid_auto_rows": null,
            "grid_column": null,
            "grid_gap": null,
            "grid_row": null,
            "grid_template_areas": null,
            "grid_template_columns": null,
            "grid_template_rows": null,
            "height": null,
            "justify_content": null,
            "justify_items": null,
            "left": null,
            "margin": null,
            "max_height": null,
            "max_width": null,
            "min_height": null,
            "min_width": null,
            "object_fit": null,
            "object_position": null,
            "order": null,
            "overflow": null,
            "overflow_x": null,
            "overflow_y": null,
            "padding": null,
            "right": null,
            "top": null,
            "visibility": null,
            "width": null
          }
        },
        "17eec2569f274a36951521b44021f829": {
          "model_module": "@jupyter-widgets/controls",
          "model_name": "DescriptionStyleModel",
          "model_module_version": "1.5.0",
          "state": {
            "_model_module": "@jupyter-widgets/controls",
            "_model_module_version": "1.5.0",
            "_model_name": "DescriptionStyleModel",
            "_view_count": null,
            "_view_module": "@jupyter-widgets/base",
            "_view_module_version": "1.2.0",
            "_view_name": "StyleView",
            "description_width": ""
          }
        }
      }
    },
    "accelerator": "GPU"
  },
  "cells": [
    {
      "cell_type": "markdown",
      "metadata": {
        "id": "view-in-github",
        "colab_type": "text"
      },
      "source": [
        "<a href=\"https://colab.research.google.com/github/Ananddd06/Machine_Learning_indepth_notes/blob/main/Transformers_Explained_Build_a_transformer_End_to_End!.ipynb\" target=\"_parent\"><img src=\"https://colab.research.google.com/assets/colab-badge.svg\" alt=\"Open In Colab\"/></a>"
      ]
    },
    {
      "cell_type": "markdown",
      "source": [
        "# **Transformer from Scratch!**\n",
        "## (Build a language model to translate English to Hindi)"
      ],
      "metadata": {
        "id": "JN2QJru1nYs2"
      }
    },
    {
      "cell_type": "markdown",
      "source": [
        "![1_43lgCTyM5cTTABjC2VEHdA.png](data:image/png;base64,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)"
      ],
      "metadata": {
        "id": "zQUVH1RYofNK"
      }
    },
    {
      "cell_type": "markdown",
      "source": [
        "# 1. Data Preparation and Preprocessing\n"
      ],
      "metadata": {
        "id": "fKKMVT9IlGLc"
      }
    },
    {
      "cell_type": "markdown",
      "source": [
        "\n",
        "\n",
        "Here we will use the [IIT Bombay English-Hindi corpus contains parallel corpus](https://www.cfilt.iitb.ac.in/iitb_parallel/).\n",
        "\n",
        "---\n",
        "\n"
      ],
      "metadata": {
        "id": "nUOKsSavnz4A"
      }
    },
    {
      "cell_type": "code",
      "execution_count": null,
      "metadata": {
        "colab": {
          "base_uri": "https://localhost:8080/"
        },
        "id": "demCDxO5C6_x",
        "outputId": "bda1297d-ebf5-40e6-e966-f922327bfc3a"
      },
      "outputs": [
        {
          "output_type": "stream",
          "name": "stdout",
          "text": [
            "Collecting subword-nmt\n",
            "  Downloading subword_nmt-0.3.8-py3-none-any.whl (27 kB)\n",
            "Collecting mock (from subword-nmt)\n",
            "  Downloading mock-5.1.0-py3-none-any.whl (30 kB)\n",
            "Requirement already satisfied: tqdm in /usr/local/lib/python3.10/dist-packages (from subword-nmt) (4.66.4)\n",
            "Installing collected packages: mock, subword-nmt\n",
            "Successfully installed mock-5.1.0 subword-nmt-0.3.8\n"
          ]
        }
      ],
      "source": [
        "! pip install subword-nmt # We require this for 'tokenisation' later on"
      ]
    },
    {
      "cell_type": "code",
      "source": [
        "!pip install datasets==1.18.1 # This is needed to load the dataset\n"
      ],
      "metadata": {
        "colab": {
          "base_uri": "https://localhost:8080/"
        },
        "id": "Re8tBuuWDhuN",
        "outputId": "042b28be-1391-4185-fcb2-7a28bc8d66ea"
      },
      "execution_count": null,
      "outputs": [
        {
          "output_type": "stream",
          "name": "stdout",
          "text": [
            "Collecting datasets==1.18.1\n",
            "  Downloading datasets-1.18.1-py3-none-any.whl (311 kB)\n",
            "\u001b[2K     \u001b[90m━━━━━━━━━━━━━━━━━━━━━━━━━━━━━━━━━━━━━━━━\u001b[0m \u001b[32m311.5/311.5 kB\u001b[0m \u001b[31m6.4 MB/s\u001b[0m eta \u001b[36m0:00:00\u001b[0m\n",
            "\u001b[?25hRequirement already satisfied: numpy>=1.17 in /usr/local/lib/python3.10/dist-packages (from datasets==1.18.1) (1.25.2)\n",
            "Requirement already satisfied: pyarrow!=4.0.0,>=3.0.0 in /usr/local/lib/python3.10/dist-packages (from datasets==1.18.1) (14.0.2)\n",
            "Collecting dill (from datasets==1.18.1)\n",
            "  Downloading dill-0.3.8-py3-none-any.whl (116 kB)\n",
            "\u001b[2K     \u001b[90m━━━━━━━━━━━━━━━━━━━━━━━━━━━━━━━━━━━━━━━━\u001b[0m \u001b[32m116.3/116.3 kB\u001b[0m \u001b[31m16.2 MB/s\u001b[0m eta \u001b[36m0:00:00\u001b[0m\n",
            "\u001b[?25hRequirement already satisfied: pandas in /usr/local/lib/python3.10/dist-packages (from datasets==1.18.1) (2.0.3)\n",
            "Requirement already satisfied: requests>=2.19.0 in /usr/local/lib/python3.10/dist-packages (from datasets==1.18.1) (2.31.0)\n",
            "Requirement already satisfied: tqdm>=4.62.1 in /usr/local/lib/python3.10/dist-packages (from datasets==1.18.1) (4.66.4)\n",
            "Collecting xxhash (from datasets==1.18.1)\n",
            "  Downloading xxhash-3.4.1-cp310-cp310-manylinux_2_17_x86_64.manylinux2014_x86_64.whl (194 kB)\n",
            "\u001b[2K     \u001b[90m━━━━━━━━━━━━━━━━━━━━━━━━━━━━━━━━━━━━━━━━\u001b[0m \u001b[32m194.1/194.1 kB\u001b[0m \u001b[31m4.1 MB/s\u001b[0m eta \u001b[36m0:00:00\u001b[0m\n",
            "\u001b[?25hCollecting multiprocess (from datasets==1.18.1)\n",
            "  Downloading multiprocess-0.70.16-py310-none-any.whl (134 kB)\n",
            "\u001b[2K     \u001b[90m━━━━━━━━━━━━━━━━━━━━━━━━━━━━━━━━━━━━━━━━\u001b[0m \u001b[32m134.8/134.8 kB\u001b[0m \u001b[31m17.2 MB/s\u001b[0m eta \u001b[36m0:00:00\u001b[0m\n",
            "\u001b[?25hRequirement already satisfied: fsspec[http]>=2021.05.0 in /usr/local/lib/python3.10/dist-packages (from datasets==1.18.1) (2023.6.0)\n",
            "Requirement already satisfied: aiohttp in /usr/local/lib/python3.10/dist-packages (from datasets==1.18.1) (3.9.5)\n",
            "Requirement already satisfied: huggingface-hub<1.0.0,>=0.1.0 in /usr/local/lib/python3.10/dist-packages (from datasets==1.18.1) (0.23.4)\n",
            "Requirement already satisfied: packaging in /usr/local/lib/python3.10/dist-packages (from datasets==1.18.1) (24.1)\n",
            "Requirement already satisfied: aiosignal>=1.1.2 in /usr/local/lib/python3.10/dist-packages (from aiohttp->datasets==1.18.1) (1.3.1)\n",
            "Requirement already satisfied: attrs>=17.3.0 in /usr/local/lib/python3.10/dist-packages (from aiohttp->datasets==1.18.1) (23.2.0)\n",
            "Requirement already satisfied: frozenlist>=1.1.1 in /usr/local/lib/python3.10/dist-packages (from aiohttp->datasets==1.18.1) (1.4.1)\n",
            "Requirement already satisfied: multidict<7.0,>=4.5 in /usr/local/lib/python3.10/dist-packages (from aiohttp->datasets==1.18.1) (6.0.5)\n",
            "Requirement already satisfied: yarl<2.0,>=1.0 in /usr/local/lib/python3.10/dist-packages (from aiohttp->datasets==1.18.1) (1.9.4)\n",
            "Requirement already satisfied: async-timeout<5.0,>=4.0 in /usr/local/lib/python3.10/dist-packages (from aiohttp->datasets==1.18.1) (4.0.3)\n",
            "Requirement already satisfied: filelock in /usr/local/lib/python3.10/dist-packages (from huggingface-hub<1.0.0,>=0.1.0->datasets==1.18.1) (3.15.4)\n",
            "Requirement already satisfied: pyyaml>=5.1 in /usr/local/lib/python3.10/dist-packages (from huggingface-hub<1.0.0,>=0.1.0->datasets==1.18.1) (6.0.1)\n",
            "Requirement already satisfied: typing-extensions>=3.7.4.3 in /usr/local/lib/python3.10/dist-packages (from huggingface-hub<1.0.0,>=0.1.0->datasets==1.18.1) (4.12.2)\n",
            "Requirement already satisfied: charset-normalizer<4,>=2 in /usr/local/lib/python3.10/dist-packages (from requests>=2.19.0->datasets==1.18.1) (3.3.2)\n",
            "Requirement already satisfied: idna<4,>=2.5 in /usr/local/lib/python3.10/dist-packages (from requests>=2.19.0->datasets==1.18.1) (3.7)\n",
            "Requirement already satisfied: urllib3<3,>=1.21.1 in /usr/local/lib/python3.10/dist-packages (from requests>=2.19.0->datasets==1.18.1) (2.0.7)\n",
            "Requirement already satisfied: certifi>=2017.4.17 in /usr/local/lib/python3.10/dist-packages (from requests>=2.19.0->datasets==1.18.1) (2024.7.4)\n",
            "Requirement already satisfied: python-dateutil>=2.8.2 in /usr/local/lib/python3.10/dist-packages (from pandas->datasets==1.18.1) (2.8.2)\n",
            "Requirement already satisfied: pytz>=2020.1 in /usr/local/lib/python3.10/dist-packages (from pandas->datasets==1.18.1) (2023.4)\n",
            "Requirement already satisfied: tzdata>=2022.1 in /usr/local/lib/python3.10/dist-packages (from pandas->datasets==1.18.1) (2024.1)\n",
            "Requirement already satisfied: six>=1.5 in /usr/local/lib/python3.10/dist-packages (from python-dateutil>=2.8.2->pandas->datasets==1.18.1) (1.16.0)\n",
            "Installing collected packages: xxhash, dill, multiprocess, datasets\n",
            "Successfully installed datasets-1.18.1 dill-0.3.8 multiprocess-0.70.16 xxhash-3.4.1\n"
          ]
        }
      ]
    },
    {
      "cell_type": "code",
      "source": [
        "import numpy as np\n",
        "from datasets import load_dataset\n",
        "import time\n",
        "\n",
        "# Load the dataset\n",
        "print(\"Loading dataset...\")\n"
      ],
      "metadata": {
        "colab": {
          "base_uri": "https://localhost:8080/"
        },
        "id": "r4fiKJgGDiEz",
        "outputId": "979a1359-2140-477b-ac5e-615d1a4eebda"
      },
      "execution_count": null,
      "outputs": [
        {
          "output_type": "stream",
          "name": "stdout",
          "text": [
            "Loading dataset...\n"
          ]
        }
      ]
    },
    {
      "cell_type": "code",
      "source": [
        "dataset = load_dataset(\"cfilt/iitb-english-hindi\")\n",
        "dataset"
      ],
      "metadata": {
        "colab": {
          "base_uri": "https://localhost:8080/",
          "height": 652,
          "referenced_widgets": [
            "08817da89246473da25d22714233f520",
            "3b107e0897c8469381192cb913fbfa73",
            "25d60868101740e1bd964543e30b8346",
            "c9c1930dc73a4dd39f6c14ee58503903",
            "977eb9d17c9943d9a5cfd43e1415ed05",
            "f72cb714aafa4c9cb05d66eda0fd3883",
            "53a08c9b5b1b4be08e9c87526583b867",
            "a99a2c4adf094bfb859e395013b71915",
            "ba52252634184a809ae66188ed93b6c1",
            "dc2010b3b0a742dc84448ec8dc4bc955",
            "4a077ac51001481c904cbf3ec7fa9bb0",
            "ebdc00f418df4afc9bfac7eb550eb74a",
            "1401129f5a344b4f812e17a9511b1c63",
            "e742da4a1d344590b8a39a8a319f4e6d",
            "52e9811091cb4bc0a7cd37171d305730",
            "8a9a38369b544ec7b08bfb66ea95ff3e",
            "141f4388afcd46d3a5745aa07c4bafb0",
            "94e9bf2264be4dd1af2c4ab348ce40fc",
            "c9cf82993b404a8d94b7b9436c243a49",
            "697f2fe1aaf14daab54f39518049974a",
            "8dc198991de44e3aa769d40e5f61acb6",
            "52dcdbb197264b528a886200fefa535e",
            "69897f08c06f4898a57b2ffe7d69d012",
            "fb1177bce31b451eb5ce4a91816d21e0",
            "67b52060626349deafce3f752a14f5a0",
            "c619ca600d83410a99461401311c1a2b",
            "26bc363cc0b9469497612ff8e3c4d209",
            "6998f0e477a04f028a211faa71b1ba13",
            "1118d12e3e1345a3827048aacc092803",
            "336dc25ced714576814f282848aa73f4",
            "56b6fadcf5a44b309ed23993c92afb37",
            "8c68ee7ad8554a159ba3b29bd6d4cefd",
            "9e6b51b68de946318c310bc5590331e4",
            "c3dc74f6f21948218c02d0bf06ad4149",
            "4a9f3e77f8784954a04a32495dea150c",
            "bfe8f540effb4fb58b8036ccdf531bef",
            "5bd722ea62554dfa9c3f2defd20ea73d",
            "34000ecefefe4decb3201ce180547bf5",
            "529ced80ac0748ffa584e203734df20e",
            "e445f50ff53b435a9bb1024db2b3fc8d",
            "a58922bfb345452ab7d5b9bac98cdce3",
            "f7a8239e7aad446d90f55dc3a4689e3f",
            "758b34d9d8574b47abf39c2b1b950107",
            "8f456c19476644b4acba633aefb9649e",
            "c2699fe61a1d4d25b9abb0fc70ccaeaf",
            "53ef1569886b4b8986155a926da3aac3",
            "d5d2e04df10941f5922b62d99660bf78",
            "98333323f06a4d5b84d795bf108678d7",
            "eab0e9b75d3f4ebfae99fd2fb153d220",
            "145970a32b8944eb966bcc1ca9b0cd8b",
            "6e7aaf9a8aed4c4383a35a38f05fa023",
            "5046eef5279d47e5afa27500bdfef93c",
            "4603fd28ae974ed2affcbb2214505b76",
            "c2b66177b5024fbf8ca4a110a7fa792e",
            "1639145468af4c9ea703ea586771bfbc",
            "67f16bca68304855a6583d0bead9035d",
            "ced726c23bba439ca2eedde83374fdd0",
            "af90bbbfeeac49989aa302313bbf8f1e",
            "977d68879709416c9c7a0150a4082951",
            "f3fa633ca2ba43188de272204fa33b4c",
            "c17363ef488f4f26aabebaf48bec389e",
            "5618480ffa184b33aaefbd90b20c060a",
            "43f5f8111dd548b792cd36bf865f4591",
            "e6ef6903a9614df9a5c05377e5cd2626",
            "ebee9a278c5a44e8a92bbed273df70fa",
            "61e6e826b20b4370b7a8786c7b9f7a0f",
            "b1c96fd7db264a518bd73c43491d3e83",
            "7ab1bb82a269464b9c0982b03d2d1033",
            "4eba86cf564f47d9851b5d7c0cf93617",
            "842580351f974df8bd773e33dbdda4de",
            "5e945072dd8a4c029f3a3ffa7d8fb673",
            "7e807b17421b47e888b0d981d8912594",
            "3e0bfe8ede754fa4b86fbd0edd93d60f",
            "e6cf56e11ca8445cac11201ffdf97426",
            "c446e145f7c2469a9c812421db69ec89",
            "914de372374e42a088d2ee5980ff1c99",
            "17eec2569f274a36951521b44021f829"
          ]
        },
        "id": "Y4r_a-haDktc",
        "outputId": "23159b82-021a-49aa-cb9d-9656e12d50de"
      },
      "execution_count": null,
      "outputs": [
        {
          "output_type": "stream",
          "name": "stderr",
          "text": [
            "/usr/local/lib/python3.10/dist-packages/huggingface_hub/utils/_token.py:89: UserWarning: \n",
            "The secret `HF_TOKEN` does not exist in your Colab secrets.\n",
            "To authenticate with the Hugging Face Hub, create a token in your settings tab (https://huggingface.co/settings/tokens), set it as secret in your Google Colab and restart your session.\n",
            "You will be able to reuse this secret in all of your notebooks.\n",
            "Please note that authentication is recommended but still optional to access public models or datasets.\n",
            "  warnings.warn(\n"
          ]
        },
        {
          "output_type": "display_data",
          "data": {
            "text/plain": [
              "Downloading:   0%|          | 0.00/953 [00:00<?, ?B/s]"
            ],
            "application/vnd.jupyter.widget-view+json": {
              "version_major": 2,
              "version_minor": 0,
              "model_id": "08817da89246473da25d22714233f520"
            }
          },
          "metadata": {}
        },
        {
          "output_type": "stream",
          "name": "stderr",
          "text": [
            "WARNING:datasets.builder:Using custom data configuration cfilt--iitb-english-hindi-2cfae92395f2614b\n"
          ]
        },
        {
          "output_type": "stream",
          "name": "stdout",
          "text": [
            "Downloading and preparing dataset json/default (download: 181.38 MiB, generated: 427.93 MiB, post-processed: Unknown size, total: 609.31 MiB) to /root/.cache/huggingface/datasets/parquet/cfilt--iitb-english-hindi-2cfae92395f2614b/0.0.0/1638526fd0e8d960534e2155dc54fdff8dce73851f21f031d2fb9c2cf757c121...\n"
          ]
        },
        {
          "output_type": "display_data",
          "data": {
            "text/plain": [
              "  0%|          | 0/3 [00:00<?, ?it/s]"
            ],
            "application/vnd.jupyter.widget-view+json": {
              "version_major": 2,
              "version_minor": 0,
              "model_id": "ebdc00f418df4afc9bfac7eb550eb74a"
            }
          },
          "metadata": {}
        },
        {
          "output_type": "display_data",
          "data": {
            "text/plain": [
              "Downloading:   0%|          | 0.00/500k [00:00<?, ?B/s]"
            ],
            "application/vnd.jupyter.widget-view+json": {
              "version_major": 2,
              "version_minor": 0,
              "model_id": "69897f08c06f4898a57b2ffe7d69d012"
            }
          },
          "metadata": {}
        },
        {
          "output_type": "display_data",
          "data": {
            "text/plain": [
              "Downloading:   0%|          | 0.00/85.7k [00:00<?, ?B/s]"
            ],
            "application/vnd.jupyter.widget-view+json": {
              "version_major": 2,
              "version_minor": 0,
              "model_id": "c3dc74f6f21948218c02d0bf06ad4149"
            }
          },
          "metadata": {}
        },
        {
          "output_type": "display_data",
          "data": {
            "text/plain": [
              "Downloading:   0%|          | 0.00/190M [00:00<?, ?B/s]"
            ],
            "application/vnd.jupyter.widget-view+json": {
              "version_major": 2,
              "version_minor": 0,
              "model_id": "c2699fe61a1d4d25b9abb0fc70ccaeaf"
            }
          },
          "metadata": {}
        },
        {
          "output_type": "display_data",
          "data": {
            "text/plain": [
              "  0%|          | 0/3 [00:00<?, ?it/s]"
            ],
            "application/vnd.jupyter.widget-view+json": {
              "version_major": 2,
              "version_minor": 0,
              "model_id": "67f16bca68304855a6583d0bead9035d"
            }
          },
          "metadata": {}
        },
        {
          "output_type": "stream",
          "name": "stdout",
          "text": [
            "Dataset parquet downloaded and prepared to /root/.cache/huggingface/datasets/parquet/cfilt--iitb-english-hindi-2cfae92395f2614b/0.0.0/1638526fd0e8d960534e2155dc54fdff8dce73851f21f031d2fb9c2cf757c121. Subsequent calls will reuse this data.\n"
          ]
        },
        {
          "output_type": "display_data",
          "data": {
            "text/plain": [
              "  0%|          | 0/3 [00:00<?, ?it/s]"
            ],
            "application/vnd.jupyter.widget-view+json": {
              "version_major": 2,
              "version_minor": 0,
              "model_id": "b1c96fd7db264a518bd73c43491d3e83"
            }
          },
          "metadata": {}
        },
        {
          "output_type": "execute_result",
          "data": {
            "text/plain": [
              "DatasetDict({\n",
              "    test: Dataset({\n",
              "        features: ['translation'],\n",
              "        num_rows: 2507\n",
              "    })\n",
              "    validation: Dataset({\n",
              "        features: ['translation'],\n",
              "        num_rows: 520\n",
              "    })\n",
              "    train: Dataset({\n",
              "        features: ['translation'],\n",
              "        num_rows: 1659083\n",
              "    })\n",
              "})"
            ]
          },
          "metadata": {},
          "execution_count": 4
        }
      ]
    },
    {
      "cell_type": "markdown",
      "source": [
        "## 1.1 Loading and Splitting the Dataset\n",
        "First, we'll load our dataset and into training, validation, and test sets. The dataset is already split by the dataset creators, we will use their same split."
      ],
      "metadata": {
        "id": "d_egdi5tniOy"
      }
    },
    {
      "cell_type": "code",
      "source": [
        "# Open files for writing source and target sentences for the training set\n",
        "source_train_file = open(\"source_train.txt\", \"w+\", encoding='utf8')\n",
        "target_train_file = open(\"target_train.txt\", \"w+\", encoding='utf8')\n",
        "\n",
        "# Write sentences to the training files\n",
        "for translation_pair in dataset[\"train\"][\"translation\"]:\n",
        "  source_sentence = translation_pair[\"en\"]\n",
        "  target_sentence = translation_pair[\"hi\"]\n",
        "  source_train_file.write(source_sentence.strip(\"\\n\") + \"\\n\")\n",
        "  target_train_file.write(target_sentence.strip(\"\\n\") + \"\\n\")\n",
        "\n",
        "# Close the training files\n",
        "source_train_file.close()\n",
        "target_train_file.close()\n",
        "\n",
        "\n",
        "# Repeat the process for validation set\n",
        "source_valid_file = open(\"source_valid.txt\", \"w+\", encoding='utf8')\n",
        "target_valid_file = open(\"target_valid.txt\", \"w+\", encoding='utf8')\n",
        "for translation_pair in dataset[\"validation\"][\"translation\"]:\n",
        "  source_sentence = translation_pair[\"en\"]\n",
        "  target_sentence = translation_pair[\"hi\"]\n",
        "  source_valid_file.write(source_sentence.strip(\"\\n\") + \"\\n\")\n",
        "  target_valid_file.write(target_sentence.strip(\"\\n\") + \"\\n\")\n",
        "source_valid_file.close()\n",
        "target_valid_file.close()\n",
        "\n",
        "# Repeat the process for test set\n",
        "source_test_file = open(\"source_test.txt\", \"w+\", encoding='utf8')\n",
        "target_test_file = open(\"target_test.txt\", \"w+\", encoding='utf8')\n",
        "for translation_pair in dataset[\"test\"][\"translation\"]:\n",
        "  source_sentence = translation_pair[\"en\"]\n",
        "  target_sentence = translation_pair[\"hi\"]\n",
        "  source_test_file.write(source_sentence.strip(\"\\n\") + \"\\n\")\n",
        "  target_test_file.write(target_sentence.strip(\"\\n\") + \"\\n\")\n",
        "source_test_file.close()\n",
        "target_test_file.close()"
      ],
      "metadata": {
        "id": "gnGRHu99Ere0"
      },
      "execution_count": null,
      "outputs": []
    },
    {
      "cell_type": "markdown",
      "source": [
        "## 1.2 Checking Dataset Size\n",
        "After creating our dataset files, it's important to verify the size of each set:"
      ],
      "metadata": {
        "id": "_jnKqqq9oB0T"
      }
    },
    {
      "cell_type": "code",
      "source": [
        "! wc -l source_train.txt target_train.txt source_valid.txt target_valid.txt source_test.txt target_test.txt\n"
      ],
      "metadata": {
        "colab": {
          "base_uri": "https://localhost:8080/"
        },
        "id": "ABNYPXXoG1KH",
        "outputId": "33bcace6-7734-4cd4-8e47-109664e48081"
      },
      "execution_count": null,
      "outputs": [
        {
          "output_type": "stream",
          "name": "stdout",
          "text": [
            "  1659083 source_train.txt\n",
            "  1659083 target_train.txt\n",
            "      520 source_valid.txt\n",
            "      520 target_valid.txt\n",
            "     2507 source_test.txt\n",
            "     2507 target_test.txt\n",
            "  3324220 total\n"
          ]
        }
      ]
    },
    {
      "cell_type": "markdown",
      "source": [
        "We see that there is less data for validation, we can create a split later."
      ],
      "metadata": {
        "id": "dRTnpUIpT94B"
      }
    },
    {
      "cell_type": "markdown",
      "source": [
        "## 1.3 Applying Byte Pair Encoding (BPE)\n"
      ],
      "metadata": {
        "id": "CQLzfb6k4gdA"
      }
    },
    {
      "cell_type": "markdown",
      "source": [
        "Next, we'll apply Byte Pair Encoding to our dataset. BPE is a data compression technique that iteratively replaces the most frequent pair of bytes in a sequence with a single, unused byte. In NLP, it's used for subword tokenization."
      ],
      "metadata": {
        "id": "Q7tsX-2XpJuK"
      }
    },
    {
      "cell_type": "code",
      "source": [
        "import os\n",
        "os.environ['NUM_OF_MERGE_OPERATIONS'] = \"16000\""
      ],
      "metadata": {
        "id": "uYIfCWI_HB6r"
      },
      "execution_count": null,
      "outputs": []
    },
    {
      "cell_type": "code",
      "source": [
        "! cat source_train.txt source_test.txt source_valid.txt > source_full.txt\n",
        "! cat target_train.txt target_test.txt target_valid.txt > target_full.txt"
      ],
      "metadata": {
        "id": "VjdJaXtQG214"
      },
      "execution_count": null,
      "outputs": []
    },
    {
      "cell_type": "code",
      "source": [
        "! subword-nmt learn-bpe -s $NUM_OF_MERGE_OPERATIONS < source_full.txt > source-bpe.codes\n",
        "! subword-nmt learn-bpe -s $NUM_OF_MERGE_OPERATIONS < target_full.txt > target-bpe.codes"
      ],
      "metadata": {
        "colab": {
          "base_uri": "https://localhost:8080/"
        },
        "id": "OuQGdU7fG5vA",
        "outputId": "249b2196-de68-4827-98cf-df5d1867cc28"
      },
      "execution_count": null,
      "outputs": [
        {
          "output_type": "stream",
          "name": "stdout",
          "text": [
            "100% 16000/16000 [01:32<00:00, 172.78it/s]\n",
            "100% 16000/16000 [01:48<00:00, 147.42it/s]\n"
          ]
        }
      ]
    },
    {
      "cell_type": "code",
      "source": [
        "! subword-nmt apply-bpe -c source-bpe.codes < source_train.txt > source_train_bpe.txt\n",
        "! subword-nmt apply-bpe -c source-bpe.codes < source_valid.txt > source_valid_bpe.txt\n",
        "! subword-nmt apply-bpe -c source-bpe.codes < source_test.txt > source_test_bpe.txt\n",
        "\n",
        "! subword-nmt apply-bpe -c target-bpe.codes < target_train.txt > target_train_bpe.txt\n",
        "! subword-nmt apply-bpe -c target-bpe.codes < target_valid.txt > target_valid_bpe.txt\n",
        "! subword-nmt apply-bpe -c target-bpe.codes < target_test.txt > target_test_bpe.txt"
      ],
      "metadata": {
        "id": "HYwnMwU_G8hc"
      },
      "execution_count": null,
      "outputs": []
    },
    {
      "cell_type": "markdown",
      "source": [
        "This process helps us handle out-of-vocabulary words and reduces the vocabulary size, making our model more efficient."
      ],
      "metadata": {
        "id": "p5Xds9yB3Sza"
      }
    },
    {
      "cell_type": "code",
      "source": [
        "! wc -l source-bpe.codes target-bpe.codes\n"
      ],
      "metadata": {
        "colab": {
          "base_uri": "https://localhost:8080/"
        },
        "id": "VKAVdyHRHHLK",
        "outputId": "bdb99312-ff4d-4eaf-9cd7-879a3d40175e"
      },
      "execution_count": null,
      "outputs": [
        {
          "output_type": "stream",
          "name": "stdout",
          "text": [
            " 16001 source-bpe.codes\n",
            " 16001 target-bpe.codes\n",
            " 32002 total\n"
          ]
        }
      ]
    },
    {
      "cell_type": "code",
      "source": [
        "! wc -l source_train_bpe.txt target_train_bpe.txt source_valid_bpe.txt target_valid_bpe.txt source_test_bpe.txt target_test_bpe.txt"
      ],
      "metadata": {
        "colab": {
          "base_uri": "https://localhost:8080/"
        },
        "id": "WeVXbp1xHK5r",
        "outputId": "26fddd27-48f8-44a7-f668-691e2b4231d7"
      },
      "execution_count": null,
      "outputs": [
        {
          "output_type": "stream",
          "name": "stdout",
          "text": [
            "  1659083 source_train_bpe.txt\n",
            "  1659083 target_train_bpe.txt\n",
            "      520 source_valid_bpe.txt\n",
            "      520 target_valid_bpe.txt\n",
            "     2507 source_test_bpe.txt\n",
            "     2507 target_test_bpe.txt\n",
            "  3324220 total\n"
          ]
        }
      ]
    },
    {
      "cell_type": "markdown",
      "source": [
        "# 2. Building the Vocabulary\n",
        "After preprocessing our data with Byte Pair Encoding, the next crucial step is to build our vocabulary. This vocabulary will be used to convert words into indices that our model can process.\n",
        "\n",
        "## 2.1 Defining the Vocabulary Building Function\n",
        "We'll start by defining a function to build our vocabulary:"
      ],
      "metadata": {
        "id": "ZKxVN36w3b2Y"
      }
    },
    {
      "cell_type": "code",
      "source": [
        "from collections import Counter\n",
        "\n",
        "def build_vocab(filename, min_freq=2):\n",
        "    counter = Counter()\n",
        "    with open(filename, 'r', encoding='utf-8') as f:\n",
        "        for line in f:\n",
        "            counter.update(line.strip().split())\n",
        "    vocab = {'<pad>': 0, '<sos>': 1, '<eos>': 2, '<unk>': 3}\n",
        "    # Add words to vocab with indices starting from 4, filtering by min frequency\n",
        "    vocab.update({word: i + 4 for i, (word, count) in enumerate(counter.items()) if count >= min_freq})\n",
        "\n",
        "src_vocab = build_vocab('source_train_bpe.txt')\n",
        "tgt_vocab = build_vocab('target_train_bpe.txt')\n",
        "\n",
        "print(f\"Source vocabulary size: {len(src_vocab)}\")\n",
        "print(f\"Target vocabulary size: {len(tgt_vocab)}\")\n",
        "\n",
        "# Verify special tokens\n",
        "special_tokens = ['<pad>', '<sos>', '<eos>', '<unk>']\n",
        "for token in special_tokens:\n",
        "    if token not in src_vocab or token not in tgt_vocab:\n",
        "        raise ValueError(f\"Special token {token} is missing from vocabulary.\")\n",
        "\n",
        "print(\"Vocabularies created and verified successfully.\")\n"
      ],
      "metadata": {
        "colab": {
          "base_uri": "https://localhost:8080/"
        },
        "id": "RwSkJG6pPfy1",
        "outputId": "041fe199-1978-47a3-97c9-06c71c34d269"
      },
      "execution_count": null,
      "outputs": [
        {
          "output_type": "stream",
          "name": "stdout",
          "text": [
            "Source vocabulary size: 16896\n",
            "Target vocabulary size: 16681\n",
            "Vocabularies created and verified successfully.\n"
          ]
        }
      ]
    },
    {
      "cell_type": "markdown",
      "source": [
        "# 3. Data Encoding and Preparation\n",
        "After building our vocabulary, the next step is to encode our sentences and prepare them for input into our Transformer model. This process involves converting words to indices, padding sequences, and creating data loaders.\n",
        "\n",
        "## 3.1 Encoding and Padding Functions\n",
        "First, let's look at the functions for encoding sentences and padding sequences:"
      ],
      "metadata": {
        "id": "kznqtQePv0Xt"
      }
    },
    {
      "cell_type": "code",
      "source": [
        "import torch\n",
        "from torch.nn.utils.rnn import pad_sequence\n",
        "from torch.utils.data import DataLoader, TensorDataset, random_split\n",
        "import random\n",
        "\n",
        "def encode_sentence(vocab, sentence):\n",
        "    tokens = sentence.strip().split()\n",
        "    return [vocab.get(token, vocab['<unk>']) for token in tokens] #<unk> accounts for unknown tokens\n",
        "\n",
        "def load_and_encode(filename, vocab, indices):\n",
        "    with open(filename, 'r', encoding='utf-8') as f:\n",
        "        lines = f.readlines()\n",
        "    subset_lines = [lines[i] for i in indices]\n",
        "    encoded_lines = [encode_sentence(vocab, line) for line in subset_lines]\n",
        "\n",
        "    #Filter out tokens that are not in the vocabulary\n",
        "    filtered_lines = []\n",
        "    for line in encoded_lines:\n",
        "        filtered_line = [token for token in line if token < len(vocab)]\n",
        "        filtered_lines.append(filtered_line)\n",
        "    return filtered_lines\n",
        "\n",
        "def pad_sequences(sequences, pad_idx, max_len):\n",
        "    padded_sequences = []\n",
        "    for seq in sequences:\n",
        "        if len(seq) < max_len:\n",
        "            seq = seq + [pad_idx] * (max_len - len(seq))\n",
        "        padded_sequences.append(torch.tensor(seq))\n",
        "    return torch.stack(padded_sequences)\n",
        "\n"
      ],
      "metadata": {
        "id": "DZKMbkooeR56"
      },
      "execution_count": null,
      "outputs": []
    },
    {
      "cell_type": "markdown",
      "source": [
        "These functions do the following:\n",
        "* encode_sentence: Converts a sentence into a list of vocabulary indices.\n",
        "* load_and_encode: Loads sentences from a file and encodes them.\n",
        "* pad_sequences: Pads shorter sequences with a padding token to ensure all sequences have the same length."
      ],
      "metadata": {
        "id": "gJVwgcJPSpVM"
      }
    },
    {
      "cell_type": "markdown",
      "source": [
        "## 3.2 Creating DataLoader\n",
        "Data loaders are essential for efficiently managing and feeding data to the model during the training and validation phases.\n",
        "\n",
        "Next, we define a function to create our DataLoader:"
      ],
      "metadata": {
        "id": "yKnDmkkZSm45"
      }
    },
    {
      "cell_type": "code",
      "source": [
        "def create_dataloader(src_encoded, tgt_encoded, batch_size=16, val_split=0.1):\n",
        "    dataset = TensorDataset(src_encoded, tgt_encoded)\n",
        "    val_size = int(len(dataset) * val_split)\n",
        "    train_size = len(dataset) - val_size\n",
        "    train_dataset, val_dataset = random_split(dataset, [train_size, val_size])\n",
        "\n",
        "    train_dataloader = DataLoader(train_dataset, batch_size=batch_size, shuffle=True)\n",
        "    val_dataloader = DataLoader(val_dataset, batch_size=batch_size, shuffle=False)\n",
        "\n",
        "    return train_dataloader, val_dataloader"
      ],
      "metadata": {
        "id": "Kot1tIzXSiog"
      },
      "execution_count": null,
      "outputs": []
    },
    {
      "cell_type": "markdown",
      "source": [
        "This function creates a TensorDataset from our encoded source and target sentences and then creates a DataLoader object."
      ],
      "metadata": {
        "id": "J-RHAYn8Tcqi"
      }
    },
    {
      "cell_type": "markdown",
      "source": [
        "## 3.3 Preparing the Data\n",
        "In this step, we prepare our data by loading, encoding, and selecting a subset of our training data:"
      ],
      "metadata": {
        "id": "483Lb4Ymvuq4"
      }
    },
    {
      "cell_type": "code",
      "source": [
        "# Use 10% of the dataset\n",
        "subset_ratio = 0.1\n",
        "with open('source_train_bpe.txt', 'r', encoding='utf-8') as f:\n",
        "    total_lines = f.readlines()\n",
        "subset_size = int(len(total_lines) * subset_ratio)\n",
        "subset_indices = random.sample(range(len(total_lines)), subset_size)\n",
        "\n",
        "#This line calls the load_and_encode function to load and encode the selected subset of the source file using the src_vocab (or tgt_vocab) vocabulary.\n",
        "src_encoded = load_and_encode('source_train_bpe.txt', src_vocab, subset_indices)\n",
        "tgt_encoded = load_and_encode('target_train_bpe.txt', tgt_vocab, subset_indices)\n",
        "\n",
        "# Ensure the lengths match\n",
        "print(f\"Source encoded length: {len(src_encoded)}\")\n",
        "print(f\"Target encoded length: {len(tgt_encoded)}\")\n",
        "assert len(src_encoded) == len(tgt_encoded), \"Source and target lengths do not match.\""
      ],
      "metadata": {
        "colab": {
          "base_uri": "https://localhost:8080/"
        },
        "id": "YwuqqcB_vrHg",
        "outputId": "ffbf8821-21b1-477a-9e05-e3376ed6d05b"
      },
      "execution_count": null,
      "outputs": [
        {
          "output_type": "stream",
          "name": "stdout",
          "text": [
            "Source encoded length: 165908\n",
            "Target encoded length: 165908\n"
          ]
        }
      ]
    },
    {
      "cell_type": "markdown",
      "source": [
        "## 3.4 Padding Sequences\n",
        "After encoding our subset of data, we need to ensure that all sequences have the same length for batch processing. This is done through padding:"
      ],
      "metadata": {
        "id": "m1u4djABv_80"
      }
    },
    {
      "cell_type": "code",
      "source": [
        "# Determine the maximum length across both datasets\n",
        "max_len = max(max(len(seq) for seq in src_encoded), max(len(seq) for seq in tgt_encoded))\n",
        "print(f\"Maximum sequence length: {max_len}\")\n",
        "\n",
        "# Pad sequences to the same maximum length\n",
        "src_padded = pad_sequences(src_encoded, src_vocab['<pad>'], max_len)\n",
        "tgt_padded = pad_sequences(tgt_encoded, tgt_vocab['<pad>'], max_len)\n",
        "\n",
        "# Ensure the padded sequences have the same number of samples\n",
        "print(f\"Source padded shape: {src_padded.shape}\")\n",
        "print(f\"Target padded shape: {tgt_padded.shape}\")\n",
        "assert src_padded.size(0) == tgt_padded.size(0), \"Padded source and target sizes do not match.\""
      ],
      "metadata": {
        "colab": {
          "base_uri": "https://localhost:8080/"
        },
        "id": "-wPtRs0Ov4sv",
        "outputId": "804a9747-4b2b-4c69-a9da-fe3966ae54a8"
      },
      "execution_count": null,
      "outputs": [
        {
          "output_type": "stream",
          "name": "stdout",
          "text": [
            "Maximum sequence length: 971\n",
            "Source padded shape: torch.Size([165908, 971])\n",
            "Target padded shape: torch.Size([165908, 971])\n"
          ]
        }
      ]
    },
    {
      "cell_type": "markdown",
      "source": [
        "## 3.5 Creating DataLoaders\n",
        "After padding our sequences, the final step is to create DataLoaders for our training and validation sets"
      ],
      "metadata": {
        "id": "LJgQUwD3YgRP"
      }
    },
    {
      "cell_type": "code",
      "source": [
        "# Create DataLoader for training and validation datasets\n",
        "train_dataloader, val_dataloader = create_dataloader(src_padded, tgt_padded)"
      ],
      "metadata": {
        "id": "g2XfWiNEwBuJ"
      },
      "execution_count": null,
      "outputs": []
    },
    {
      "cell_type": "markdown",
      "source": [
        "# 4. Positional Encoding\n",
        "Positional Encoding is a crucial component of the Transformer architecture. It adds information about the position of tokens in the sequence, which is necessary because the Transformer doesn't inherently have a way to understand the order of inputs."
      ],
      "metadata": {
        "id": "FSSAUC4DZFrR"
      }
    },
    {
      "cell_type": "markdown",
      "source": [
        "https://youtu.be/7CNElr-TAQw?si=gzGg-LUrUWVN9u0T\n"
      ],
      "metadata": {
        "id": "IYiXOHs2a_DZ"
      }
    },
    {
      "cell_type": "code",
      "source": [
        "import torch.nn as nn\n",
        "import numpy as np\n",
        "\n",
        "#PositionalEncoding is defined as a subclass of nn.Module, making it a layer in our neural network.\n",
        "\n",
        "class PositionalEncoding(nn.Module):\n",
        "    def __init__(self, d_model, max_len=5000): #d_model: The dimensionality of the model's embeddings, max_len: The maximum sequence length (default 5000).\n",
        "        super(PositionalEncoding, self).__init__()\n",
        "        pe = torch.zeros(max_len, d_model) # Creates a matrix of shape (max_len, d_model) filled with zeros.\n",
        "        position = torch.arange(0, max_len, dtype=torch.float).unsqueeze(1)\n",
        "        div_term = torch.exp(torch.arange(0, d_model, 2).float() * (-np.log(10000.0) / d_model))\n",
        "\n",
        "        pe[:, 0::2] = torch.sin(position * div_term) # Even positions\n",
        "        pe[:, 1::2] = torch.cos(position * div_term) # Odd positions\n",
        "\n",
        "        # Add a batch dimension and transpose to match input shape\n",
        "        pe = pe.unsqueeze(0).transpose(0, 1)\n",
        "\n",
        "        # Register the positional encoding tensor as a buffer (is not learned)\n",
        "        self.register_buffer('pe', pe)\n",
        "\n",
        "    def forward(self, x):\n",
        "        x = x + self.pe[:x.size(0), :]\n",
        "        return x\n",
        "\n",
        "# Instantiate and print the positional encoding\n",
        "d_model = 256 # Taking 256 instead of 512\n",
        "pos_encoding = PositionalEncoding(d_model)\n",
        "print(pos_encoding.pe)\n"
      ],
      "metadata": {
        "colab": {
          "base_uri": "https://localhost:8080/"
        },
        "id": "NINl14gxgdjc",
        "outputId": "35dacb39-cb4f-43c8-feb7-a588f57f8900"
      },
      "execution_count": null,
      "outputs": [
        {
          "output_type": "stream",
          "name": "stdout",
          "text": [
            "tensor([[[ 0.0000e+00,  1.0000e+00,  0.0000e+00,  ...,  1.0000e+00,\n",
            "           0.0000e+00,  1.0000e+00]],\n",
            "\n",
            "        [[ 8.4147e-01,  5.4030e-01,  8.0196e-01,  ...,  1.0000e+00,\n",
            "           1.0746e-04,  1.0000e+00]],\n",
            "\n",
            "        [[ 9.0930e-01, -4.1615e-01,  9.5814e-01,  ...,  1.0000e+00,\n",
            "           2.1492e-04,  1.0000e+00]],\n",
            "\n",
            "        ...,\n",
            "\n",
            "        [[ 9.5625e-01, -2.9254e-01,  4.8925e-01,  ...,  8.3808e-01,\n",
            "           5.1154e-01,  8.5926e-01]],\n",
            "\n",
            "        [[ 2.7050e-01, -9.6272e-01,  9.9170e-01,  ...,  8.3802e-01,\n",
            "           5.1164e-01,  8.5920e-01]],\n",
            "\n",
            "        [[-6.6395e-01, -7.4778e-01,  6.9544e-01,  ...,  8.3795e-01,\n",
            "           5.1173e-01,  8.5915e-01]]])\n"
          ]
        }
      ]
    },
    {
      "cell_type": "markdown",
      "source": [
        "The output of print(pos_encoding.pe) will show a matrix of shape (1, 5000, 256), where each row represents the positional encoding for a position in the sequence, and each column represents a dimension of the encoding.\n"
      ],
      "metadata": {
        "id": "mgrC4RnybulS"
      }
    },
    {
      "cell_type": "markdown",
      "source": [
        "# 5. Scaled Dot-Product Attention\n",
        "\n",
        "## 5.1 Function Definition\n"
      ],
      "metadata": {
        "id": "q8pvds8NdHdL"
      }
    },
    {
      "cell_type": "code",
      "source": [
        "import math\n",
        "\n",
        "def scaled_dot_product_attention(query, key, value, mask=None):\n",
        "    d_k = query.size(-1)\n",
        "    scores = torch.matmul(query, key.transpose(-2, -1)) / math.sqrt(d_k)\n",
        "    if mask is not None:\n",
        "        scores = scores.masked_fill(mask == 0, -1e4)  # Using -10,000 here, we just need a small enough number.\n",
        "    attn = torch.nn.functional.softmax(scores, dim=-1)\n",
        "    output = torch.matmul(attn, value)\n",
        "    return output, attn\n",
        "\n",
        "# Test scaled dot-product attention\n",
        "query = torch.rand(16, 4, 256)\n",
        "key = torch.rand(16, 4, 256)\n",
        "value = torch.rand(16, 4, 256)\n",
        "output, attn = scaled_dot_product_attention(query, key, value)\n",
        "print(output)\n",
        "print(attn)\n"
      ],
      "metadata": {
        "colab": {
          "base_uri": "https://localhost:8080/"
        },
        "id": "j58Rs5W8kX23",
        "outputId": "f36214f6-04e1-4cab-a38b-16e09f98e5c1"
      },
      "execution_count": null,
      "outputs": [
        {
          "output_type": "stream",
          "name": "stdout",
          "text": [
            "tensor([[[0.6617, 0.4738, 0.2933,  ..., 0.4121, 0.5887, 0.1563],\n",
            "         [0.6720, 0.4873, 0.2966,  ..., 0.4196, 0.6028, 0.1578],\n",
            "         [0.6818, 0.4934, 0.3040,  ..., 0.4301, 0.6056, 0.1652],\n",
            "         [0.6661, 0.4812, 0.3018,  ..., 0.4136, 0.5952, 0.1592]],\n",
            "\n",
            "        [[0.3925, 0.6729, 0.6736,  ..., 0.5609, 0.5021, 0.6284],\n",
            "         [0.3923, 0.6740, 0.6672,  ..., 0.5314, 0.5188, 0.6361],\n",
            "         [0.3901, 0.6751, 0.6641,  ..., 0.5398, 0.5177, 0.6310],\n",
            "         [0.3817, 0.6587, 0.6659,  ..., 0.5273, 0.5421, 0.6472]],\n",
            "\n",
            "        [[0.3494, 0.7303, 0.3254,  ..., 0.6502, 0.4325, 0.5036],\n",
            "         [0.3568, 0.7221, 0.3376,  ..., 0.6332, 0.4091, 0.5239],\n",
            "         [0.3567, 0.7122, 0.3277,  ..., 0.6410, 0.4103, 0.5162],\n",
            "         [0.3539, 0.7324, 0.3250,  ..., 0.6443, 0.4307, 0.5066]],\n",
            "\n",
            "        ...,\n",
            "\n",
            "        [[0.1500, 0.5217, 0.6351,  ..., 0.4436, 0.5052, 0.5184],\n",
            "         [0.1549, 0.5063, 0.6295,  ..., 0.4483, 0.5104, 0.5153],\n",
            "         [0.1457, 0.5318, 0.6441,  ..., 0.4501, 0.5080, 0.5312],\n",
            "         [0.1505, 0.5169, 0.6343,  ..., 0.4576, 0.5091, 0.5198]],\n",
            "\n",
            "        [[0.4038, 0.2990, 0.3340,  ..., 0.6233, 0.3953, 0.1858],\n",
            "         [0.4020, 0.2967, 0.3323,  ..., 0.6240, 0.4028, 0.1902],\n",
            "         [0.3821, 0.3188, 0.3280,  ..., 0.6414, 0.3983, 0.1857],\n",
            "         [0.3991, 0.2996, 0.3271,  ..., 0.6247, 0.4099, 0.1909]],\n",
            "\n",
            "        [[0.7466, 0.4543, 0.4980,  ..., 0.3891, 0.6162, 0.5312],\n",
            "         [0.7406, 0.4447, 0.4964,  ..., 0.3870, 0.6083, 0.5254],\n",
            "         [0.7680, 0.4528, 0.5169,  ..., 0.3925, 0.6267, 0.5405],\n",
            "         [0.7495, 0.4532, 0.4904,  ..., 0.3907, 0.6233, 0.5320]]])\n",
            "tensor([[[0.2312, 0.2839, 0.2556, 0.2293],\n",
            "         [0.2559, 0.2658, 0.2610, 0.2174],\n",
            "         [0.2855, 0.2226, 0.2472, 0.2447],\n",
            "         [0.2423, 0.2559, 0.2627, 0.2391]],\n",
            "\n",
            "        [[0.2172, 0.2152, 0.2682, 0.2994],\n",
            "         [0.2067, 0.2103, 0.2432, 0.3399],\n",
            "         [0.2081, 0.2202, 0.2434, 0.3283],\n",
            "         [0.1655, 0.2122, 0.2551, 0.3672]],\n",
            "\n",
            "        [[0.2133, 0.2592, 0.2913, 0.2362],\n",
            "         [0.2264, 0.2594, 0.2633, 0.2509],\n",
            "         [0.2484, 0.2437, 0.2742, 0.2337],\n",
            "         [0.2111, 0.2478, 0.2946, 0.2465]],\n",
            "\n",
            "        [[0.2600, 0.2425, 0.2760, 0.2215],\n",
            "         [0.2607, 0.2749, 0.2216, 0.2427],\n",
            "         [0.2966, 0.2329, 0.2366, 0.2338],\n",
            "         [0.3202, 0.2572, 0.2310, 0.1915]],\n",
            "\n",
            "        [[0.2116, 0.2927, 0.2805, 0.2152],\n",
            "         [0.2396, 0.2931, 0.2488, 0.2185],\n",
            "         [0.2475, 0.2811, 0.2556, 0.2158],\n",
            "         [0.2128, 0.2916, 0.2454, 0.2502]],\n",
            "\n",
            "        [[0.2155, 0.2855, 0.2721, 0.2269],\n",
            "         [0.2242, 0.2634, 0.2596, 0.2528],\n",
            "         [0.2323, 0.2753, 0.2789, 0.2135],\n",
            "         [0.2316, 0.2775, 0.2460, 0.2448]],\n",
            "\n",
            "        [[0.2337, 0.2312, 0.3286, 0.2065],\n",
            "         [0.2581, 0.2424, 0.3106, 0.1889],\n",
            "         [0.2609, 0.2382, 0.3179, 0.1830],\n",
            "         [0.2209, 0.2315, 0.3511, 0.1964]],\n",
            "\n",
            "        [[0.2547, 0.1994, 0.2784, 0.2675],\n",
            "         [0.2399, 0.2270, 0.2316, 0.3015],\n",
            "         [0.2476, 0.1910, 0.2625, 0.2988],\n",
            "         [0.2299, 0.2261, 0.2736, 0.2704]],\n",
            "\n",
            "        [[0.2276, 0.2323, 0.2315, 0.3086],\n",
            "         [0.2966, 0.2296, 0.2331, 0.2407],\n",
            "         [0.2649, 0.2479, 0.2376, 0.2497],\n",
            "         [0.2622, 0.2049, 0.2375, 0.2954]],\n",
            "\n",
            "        [[0.2144, 0.2440, 0.3196, 0.2220],\n",
            "         [0.2159, 0.2486, 0.2868, 0.2486],\n",
            "         [0.1851, 0.2460, 0.3201, 0.2489],\n",
            "         [0.1970, 0.2694, 0.2845, 0.2490]],\n",
            "\n",
            "        [[0.2706, 0.2263, 0.2490, 0.2542],\n",
            "         [0.2548, 0.2627, 0.2393, 0.2432],\n",
            "         [0.2795, 0.2499, 0.2254, 0.2452],\n",
            "         [0.2524, 0.2524, 0.2563, 0.2389]],\n",
            "\n",
            "        [[0.2734, 0.2646, 0.2086, 0.2534],\n",
            "         [0.2632, 0.2951, 0.1824, 0.2592],\n",
            "         [0.2744, 0.2836, 0.1929, 0.2492],\n",
            "         [0.3141, 0.2422, 0.2007, 0.2430]],\n",
            "\n",
            "        [[0.2498, 0.2191, 0.2834, 0.2476],\n",
            "         [0.2260, 0.2241, 0.2333, 0.3166],\n",
            "         [0.2090, 0.2350, 0.2528, 0.3032],\n",
            "         [0.2526, 0.2218, 0.2516, 0.2739]],\n",
            "\n",
            "        [[0.2472, 0.1951, 0.2584, 0.2993],\n",
            "         [0.2525, 0.1914, 0.2752, 0.2809],\n",
            "         [0.2310, 0.1933, 0.2569, 0.3188],\n",
            "         [0.2282, 0.2073, 0.2755, 0.2890]],\n",
            "\n",
            "        [[0.2721, 0.1758, 0.2967, 0.2554],\n",
            "         [0.2597, 0.1866, 0.2997, 0.2540],\n",
            "         [0.2763, 0.1612, 0.3388, 0.2237],\n",
            "         [0.2438, 0.1846, 0.3161, 0.2555]],\n",
            "\n",
            "        [[0.2426, 0.2807, 0.2365, 0.2402],\n",
            "         [0.2490, 0.2868, 0.2462, 0.2180],\n",
            "         [0.2162, 0.2934, 0.2203, 0.2701],\n",
            "         [0.2391, 0.2694, 0.2478, 0.2436]]])\n"
          ]
        }
      ]
    },
    {
      "cell_type": "markdown",
      "source": [
        "# 6. Multi-Head Attention\n",
        "The Multi-Head Attention mechanism is a key component of the Transformer architecture. It allows the model to jointly attend to information from different representation subspaces at different positions."
      ],
      "metadata": {
        "id": "i57vuf6meaO3"
      }
    },
    {
      "cell_type": "code",
      "source": [
        "class MultiHeadAttention(nn.Module):\n",
        "    def __init__(self, d_model, num_heads):\n",
        "        super(MultiHeadAttention, self).__init__()\n",
        "        assert d_model % num_heads == 0\n",
        "        self.d_k = d_model // num_heads # Calculates the dimension of each head.\n",
        "        self.num_heads = num_heads\n",
        "        self.linear_layers = nn.ModuleList([nn.Linear(d_model, d_model) for _ in range(3)]) #Creates three linear transformations for query, key, and value.\n",
        "        self.output_linear = nn.Linear(d_model, d_model) # Creates a final linear transformation for the output.\n",
        "        self.attention = None\n",
        "\n",
        "    def forward(self, query, key, value, mask=None):\n",
        "        batch_size = query.size(0)\n",
        "        query, key, value = [l(x).view(batch_size, -1, self.num_heads, self.d_k).transpose(1, 2)\n",
        "                             for l, x in zip(self.linear_layers, (query, key, value))]\n",
        "        x, self.attention = scaled_dot_product_attention(query, key, value, mask=mask)\n",
        "        x = x.transpose(1, 2).contiguous().view(batch_size, -1, self.num_heads * self.d_k) # This combines the num_heads and d_k dimensions back into a single dimension.\n",
        "        return self.output_linear(x)\n",
        "\n",
        "# Test multi-head attention\n",
        "mha = MultiHeadAttention(d_model, 4)\n",
        "query = torch.rand(16, 10, 256)\n",
        "key = torch.rand(16, 10, 256)\n",
        "value = torch.rand(16, 10, 256)\n",
        "output = mha(query, key, value)\n",
        "print(output)\n"
      ],
      "metadata": {
        "colab": {
          "base_uri": "https://localhost:8080/"
        },
        "id": "uZ7AQqUikYJc",
        "outputId": "2abf9e23-11c4-46b8-c4b0-43b8035b9eb2"
      },
      "execution_count": null,
      "outputs": [
        {
          "output_type": "stream",
          "name": "stdout",
          "text": [
            "tensor([[[ 0.1329,  0.3300,  0.1236,  ..., -0.0297, -0.2751,  0.0109],\n",
            "         [ 0.1343,  0.3303,  0.1237,  ..., -0.0286, -0.2754,  0.0130],\n",
            "         [ 0.1343,  0.3290,  0.1247,  ..., -0.0304, -0.2740,  0.0116],\n",
            "         ...,\n",
            "         [ 0.1317,  0.3292,  0.1242,  ..., -0.0294, -0.2747,  0.0113],\n",
            "         [ 0.1334,  0.3294,  0.1236,  ..., -0.0314, -0.2757,  0.0123],\n",
            "         [ 0.1347,  0.3289,  0.1246,  ..., -0.0316, -0.2757,  0.0117]],\n",
            "\n",
            "        [[ 0.0919,  0.3753,  0.1369,  ..., -0.0885, -0.2957, -0.0724],\n",
            "         [ 0.0924,  0.3760,  0.1360,  ..., -0.0885, -0.2960, -0.0716],\n",
            "         [ 0.0915,  0.3760,  0.1361,  ..., -0.0875, -0.2946, -0.0710],\n",
            "         ...,\n",
            "         [ 0.0937,  0.3774,  0.1365,  ..., -0.0874, -0.2961, -0.0721],\n",
            "         [ 0.0911,  0.3760,  0.1356,  ..., -0.0892, -0.2963, -0.0721],\n",
            "         [ 0.0901,  0.3759,  0.1367,  ..., -0.0897, -0.2967, -0.0743]],\n",
            "\n",
            "        [[ 0.2003,  0.3353,  0.1092,  ..., -0.1370, -0.2931, -0.0192],\n",
            "         [ 0.2007,  0.3353,  0.1084,  ..., -0.1388, -0.2921, -0.0182],\n",
            "         [ 0.1993,  0.3353,  0.1091,  ..., -0.1383, -0.2949, -0.0206],\n",
            "         ...,\n",
            "         [ 0.1991,  0.3339,  0.1092,  ..., -0.1382, -0.2936, -0.0206],\n",
            "         [ 0.1999,  0.3342,  0.1083,  ..., -0.1393, -0.2936, -0.0209],\n",
            "         [ 0.1984,  0.3345,  0.1094,  ..., -0.1387, -0.2946, -0.0204]],\n",
            "\n",
            "        ...,\n",
            "\n",
            "        [[ 0.1621,  0.3292,  0.1280,  ..., -0.0753, -0.3340, -0.0491],\n",
            "         [ 0.1623,  0.3288,  0.1275,  ..., -0.0770, -0.3346, -0.0496],\n",
            "         [ 0.1621,  0.3291,  0.1286,  ..., -0.0763, -0.3330, -0.0473],\n",
            "         ...,\n",
            "         [ 0.1615,  0.3280,  0.1279,  ..., -0.0762, -0.3343, -0.0489],\n",
            "         [ 0.1619,  0.3294,  0.1270,  ..., -0.0757, -0.3349, -0.0491],\n",
            "         [ 0.1608,  0.3303,  0.1279,  ..., -0.0760, -0.3352, -0.0504]],\n",
            "\n",
            "        [[ 0.0641,  0.3198,  0.1869,  ..., -0.1210, -0.3044, -0.0623],\n",
            "         [ 0.0649,  0.3197,  0.1880,  ..., -0.1219, -0.3054, -0.0618],\n",
            "         [ 0.0640,  0.3195,  0.1862,  ..., -0.1228, -0.3041, -0.0627],\n",
            "         ...,\n",
            "         [ 0.0646,  0.3195,  0.1869,  ..., -0.1217, -0.3046, -0.0618],\n",
            "         [ 0.0637,  0.3192,  0.1878,  ..., -0.1207, -0.3057, -0.0625],\n",
            "         [ 0.0637,  0.3191,  0.1873,  ..., -0.1211, -0.3044, -0.0617]],\n",
            "\n",
            "        [[ 0.0953,  0.2905,  0.1321,  ..., -0.0551, -0.2944, -0.1077],\n",
            "         [ 0.0948,  0.2916,  0.1316,  ..., -0.0536, -0.2919, -0.1087],\n",
            "         [ 0.0958,  0.2914,  0.1335,  ..., -0.0532, -0.2924, -0.1079],\n",
            "         ...,\n",
            "         [ 0.0963,  0.2904,  0.1321,  ..., -0.0553, -0.2917, -0.1079],\n",
            "         [ 0.0946,  0.2891,  0.1311,  ..., -0.0550, -0.2926, -0.1073],\n",
            "         [ 0.0965,  0.2893,  0.1315,  ..., -0.0533, -0.2929, -0.1079]]],\n",
            "       grad_fn=<ViewBackward0>)\n"
          ]
        }
      ]
    },
    {
      "cell_type": "markdown",
      "source": [
        "# 7. Position-wise Feed-Forward Network\n",
        "The Position-wise Feed-Forward Network is a crucial component in each layer of the Transformer. It's applied to each position separately and identically, which is why it's sometimes called \"position-wise.\""
      ],
      "metadata": {
        "id": "je-oz74AoKE2"
      }
    },
    {
      "cell_type": "markdown",
      "source": [
        "The FFN allows the model to process the attended information from the Multi-Head Attention layer.\n",
        "The expansion to a larger inner-layer (d_ff) and then back to d_model allows for more complex transformations of the data.\n",
        "ReLU introduces non-linearity, enabling the network to learn more complex functions.\n",
        "This layer is applied identically to every position in the sequence, maintaining the model's ability to process variable-length sequences."
      ],
      "metadata": {
        "id": "EaezOF9Joawx"
      }
    },
    {
      "cell_type": "code",
      "source": [
        "class FeedForward(nn.Module):\n",
        "    def __init__(self, d_model, d_ff=2048):\n",
        "        super(FeedForward, self).__init__()\n",
        "        self.linear1 = nn.Linear(d_model, d_ff)\n",
        "        self.linear2 = nn.Linear(d_ff, d_model)\n",
        "\n",
        "    def forward(self, x):\n",
        "        return self.linear2(torch.nn.functional.relu(self.linear1(x)))\n",
        "\n",
        "# Test feed forward network\n",
        "ffn = FeedForward(d_model)\n",
        "x = torch.rand(16, 10, 256)\n",
        "output = ffn(x)\n",
        "print(output)\n"
      ],
      "metadata": {
        "colab": {
          "base_uri": "https://localhost:8080/"
        },
        "id": "waw56SDQkevo",
        "outputId": "835fcabd-4df8-4335-c2c4-612f792ac30f"
      },
      "execution_count": null,
      "outputs": [
        {
          "output_type": "stream",
          "name": "stdout",
          "text": [
            "tensor([[[-1.1558e-01,  7.5374e-02,  1.3525e-01,  ..., -2.2073e-02,\n",
            "           2.2908e-01,  8.5027e-02],\n",
            "         [ 1.2788e-03, -1.1019e-01,  2.2936e-02,  ..., -1.9291e-01,\n",
            "           2.1105e-01, -5.6747e-02],\n",
            "         [-5.7576e-03, -4.6409e-02,  8.0334e-02,  ..., -1.3744e-01,\n",
            "           1.1569e-01, -4.1755e-02],\n",
            "         ...,\n",
            "         [-2.6672e-02,  4.9611e-02,  4.5955e-02,  ..., -6.9634e-03,\n",
            "          -6.5534e-02,  3.2508e-03],\n",
            "         [-1.6730e-01, -9.5912e-02,  1.1197e-01,  ..., -8.6070e-02,\n",
            "           2.5260e-02, -4.1397e-02],\n",
            "         [-3.6745e-02, -1.3002e-01,  3.3418e-02,  ..., -1.7956e-01,\n",
            "           1.7798e-01, -3.2721e-02]],\n",
            "\n",
            "        [[-1.5898e-01, -1.8585e-02, -5.3275e-02,  ..., -1.1372e-01,\n",
            "           1.4585e-01, -1.0415e-01],\n",
            "         [ 2.3683e-02, -1.8633e-01,  5.6660e-02,  ..., -1.9853e-01,\n",
            "           1.3480e-01, -2.7038e-02],\n",
            "         [-1.1920e-01,  2.7146e-02,  8.7008e-02,  ..., -5.6816e-02,\n",
            "           7.4858e-02, -5.6747e-02],\n",
            "         ...,\n",
            "         [-2.4125e-04, -1.2501e-01, -1.4913e-02,  ..., -1.2415e-01,\n",
            "           1.2532e-01, -1.1647e-01],\n",
            "         [-1.4155e-01, -2.4652e-01, -3.6023e-02,  ..., -5.0695e-02,\n",
            "           4.7389e-02, -4.8509e-02],\n",
            "         [-1.1995e-01, -1.3183e-01,  5.2641e-02,  ..., -9.0982e-02,\n",
            "           2.6852e-01, -9.7991e-02]],\n",
            "\n",
            "        [[-1.9803e-02, -3.4196e-02,  4.6160e-02,  ..., -1.8101e-01,\n",
            "           2.2679e-01, -5.8623e-02],\n",
            "         [-1.2309e-01, -2.1045e-02,  6.0740e-02,  ..., -1.2768e-01,\n",
            "           2.1408e-01, -7.2688e-02],\n",
            "         [-7.0081e-02, -7.9498e-02,  7.2468e-02,  ..., -9.4079e-02,\n",
            "           1.4643e-01,  5.5307e-03],\n",
            "         ...,\n",
            "         [-1.1429e-01, -1.0346e-01, -8.0637e-02,  ..., -1.3505e-01,\n",
            "           3.0470e-01, -9.8537e-02],\n",
            "         [-1.0207e-01, -4.1688e-02, -1.8617e-02,  ..., -1.1738e-01,\n",
            "           8.4531e-02, -1.2992e-02],\n",
            "         [-1.1550e-01, -4.4980e-03,  6.2754e-02,  ..., -8.3706e-02,\n",
            "           1.0960e-01, -1.4237e-01]],\n",
            "\n",
            "        ...,\n",
            "\n",
            "        [[-5.2314e-02, -4.1368e-02,  9.1972e-02,  ..., -9.0634e-02,\n",
            "           1.8038e-01,  1.7726e-02],\n",
            "         [-4.0653e-02,  1.1275e-02, -5.1783e-02,  ..., -1.8072e-01,\n",
            "           1.4695e-01, -1.1644e-01],\n",
            "         [-1.1719e-01,  2.0702e-02, -1.0496e-03,  ..., -8.3952e-02,\n",
            "           2.7630e-01,  7.8073e-02],\n",
            "         ...,\n",
            "         [-1.3713e-01, -9.7179e-02,  1.5334e-01,  ..., -8.6576e-02,\n",
            "           1.1739e-01,  2.6707e-02],\n",
            "         [-9.0965e-02, -7.5610e-02,  4.2207e-02,  ..., -1.2606e-01,\n",
            "           1.3445e-01, -5.1371e-02],\n",
            "         [-9.4505e-02, -3.5860e-02,  7.8278e-02,  ..., -5.8542e-02,\n",
            "           1.4404e-01, -3.1846e-03]],\n",
            "\n",
            "        [[-1.0386e-01, -1.3916e-01, -1.2825e-01,  ..., -1.1624e-01,\n",
            "           2.1638e-01, -1.4017e-02],\n",
            "         [ 1.0572e-01,  9.1483e-02,  5.8639e-02,  ..., -1.1832e-01,\n",
            "           7.3092e-02, -2.1155e-02],\n",
            "         [-3.7009e-02, -6.6066e-02,  5.7313e-02,  ..., -6.6802e-02,\n",
            "           9.4273e-02, -6.4229e-02],\n",
            "         ...,\n",
            "         [-5.1679e-02,  4.5180e-02,  1.4033e-01,  ..., -4.7112e-02,\n",
            "           1.3479e-01, -9.5332e-02],\n",
            "         [-4.9861e-02,  7.6425e-03,  8.7942e-02,  ..., -2.6769e-02,\n",
            "           1.0203e-01,  1.3307e-02],\n",
            "         [-2.3906e-01, -7.7387e-02,  1.9535e-02,  ..., -1.0841e-01,\n",
            "           7.6897e-02, -1.9334e-02]],\n",
            "\n",
            "        [[-1.5676e-01,  5.3332e-02,  2.7004e-02,  ..., -8.8565e-02,\n",
            "           1.5206e-01, -3.1585e-02],\n",
            "         [-1.3408e-01,  1.6463e-02,  6.1240e-03,  ..., -1.0577e-01,\n",
            "           2.0601e-01, -1.6101e-01],\n",
            "         [-1.0446e-01, -7.3518e-02,  9.2661e-03,  ..., -7.0039e-02,\n",
            "           1.5944e-01,  1.3788e-01],\n",
            "         ...,\n",
            "         [-2.0863e-02,  3.2921e-02,  1.2411e-01,  ..., -1.7069e-01,\n",
            "           1.4479e-01, -6.3994e-02],\n",
            "         [-1.3840e-01,  4.0318e-02,  1.1890e-02,  ..., -1.1010e-01,\n",
            "           1.3842e-01, -3.1072e-02],\n",
            "         [-2.7364e-02, -4.7154e-02,  6.1884e-02,  ..., -9.9330e-02,\n",
            "           1.3215e-01, -2.0779e-03]]], grad_fn=<ViewBackward0>)\n"
          ]
        }
      ]
    },
    {
      "cell_type": "markdown",
      "source": [
        "# 8. Encoder Layer\n",
        "The Encoder Layer is a fundamental building block of the Transformer's encoder. It combines Multi-Head Attention and a Feed-Forward Network, along with layer normalization and residual connections."
      ],
      "metadata": {
        "id": "_fnLKcjkpnrs"
      }
    },
    {
      "cell_type": "markdown",
      "source": [
        "### Without Checkpointing:\n",
        "* All intermediate activations are stored during the forward pass.\n",
        "* These activations are used during the backward pass to compute gradients.\n",
        "* This can lead to high memory usage, limiting the model size or batch size.\n",
        "\n",
        "### With Checkpointing:\n",
        "* Only a subset of activations is stored during the forward pass.\n",
        "* During the backward pass, some activations are recomputed as needed.\n",
        "* This reduces memory usage, allowing for training larger models or using larger batch sizes."
      ],
      "metadata": {
        "id": "1KjsPMKfe4VQ"
      }
    },
    {
      "cell_type": "code",
      "source": [
        "import torch.utils.checkpoint as checkpoint\n",
        "\n",
        "class EncoderLayer(nn.Module):\n",
        "    def __init__(self, d_model, num_heads, d_ff=2048, dropout=0.1):\n",
        "        super(EncoderLayer, self).__init__()\n",
        "        self.self_attn = MultiHeadAttention(d_model, num_heads)\n",
        "        self.feed_forward = FeedForward(d_model, d_ff)\n",
        "        self.sublayer = nn.ModuleList([nn.LayerNorm(d_model) for _ in range(2)])\n",
        "        self.dropout = nn.Dropout(dropout)\n",
        "\n",
        "    def forward(self, x, mask=None):\n",
        "        x.requires_grad_(True)\n",
        "        x = x + self.dropout(checkpoint.checkpoint(self.self_attn, self.sublayer[0](x), self.sublayer[0](x), self.sublayer[0](x), mask, use_reentrant=False))\n",
        "        return x + self.dropout(checkpoint.checkpoint(self.feed_forward, self.sublayer[1](x), use_reentrant=False))\n",
        "        # The input x is added to the output of the sub-layer (self-attention or feed-forward). This addition operation (x + ...) is the residual connection.\n",
        "\n",
        "# Test encoder layer\n",
        "encoder_layer = EncoderLayer(d_model, 4)\n",
        "x = torch.rand(16, 10, 256)\n",
        "output = encoder_layer(x)\n",
        "print(output)\n"
      ],
      "metadata": {
        "colab": {
          "base_uri": "https://localhost:8080/"
        },
        "id": "zO1NCgPak7kX",
        "outputId": "9578d6b6-1014-4d0b-fdbf-10d07e34fb94"
      },
      "execution_count": null,
      "outputs": [
        {
          "output_type": "stream",
          "name": "stdout",
          "text": [
            "tensor([[[ 0.7072,  0.4040,  0.4049,  ...,  0.3442,  0.1749,  0.0036],\n",
            "         [ 0.6397,  0.8576,  0.3178,  ...,  0.8458,  0.6571,  0.2313],\n",
            "         [ 0.5691,  0.7698,  0.4202,  ...,  0.6452,  0.1279,  0.7866],\n",
            "         ...,\n",
            "         [ 0.6015,  0.0989, -0.2040,  ..., -0.3122,  0.3475,  0.3522],\n",
            "         [ 0.7546,  0.1227, -0.1365,  ...,  1.1990,  0.9169,  1.3542],\n",
            "         [ 0.7804,  0.2164, -0.0597,  ...,  0.2819,  0.5509,  1.1617]],\n",
            "\n",
            "        [[ 0.4657,  0.3176,  0.8199,  ...,  0.8332,  0.7391,  0.3160],\n",
            "         [ 0.3432,  0.2187,  0.3861,  ...,  0.6987,  0.5896,  0.5379],\n",
            "         [ 0.7693,  0.8713,  0.5549,  ...,  0.4853,  0.4168,  0.7862],\n",
            "         ...,\n",
            "         [ 0.7806,  0.2663,  0.4356,  ...,  0.9149,  0.4379,  0.3964],\n",
            "         [ 0.9357,  0.4172,  0.2567,  ...,  0.4852,  0.4968,  1.2838],\n",
            "         [ 0.3953,  0.1557,  0.0887,  ...,  1.0780,  0.8360,  0.3813]],\n",
            "\n",
            "        [[ 0.4466,  0.5224, -0.0950,  ...,  0.0562,  0.9288,  0.6138],\n",
            "         [ 0.2175, -0.1936,  0.5749,  ...,  0.3289,  0.4691,  0.6427],\n",
            "         [ 0.8238,  0.1721,  0.0832,  ...,  0.7129,  0.2205, -0.0398],\n",
            "         ...,\n",
            "         [ 1.1294, -0.0325,  0.7066,  ...,  0.2487,  1.1099,  0.4791],\n",
            "         [ 0.8743, -0.0160,  0.9968,  ...,  0.5162,  0.4749,  0.1523],\n",
            "         [ 0.9817, -0.3954, -0.0278,  ...,  0.0801,  1.2206,  0.9022]],\n",
            "\n",
            "        ...,\n",
            "\n",
            "        [[ 0.7878,  0.5889, -0.0149,  ...,  0.5179, -0.2159,  0.9340],\n",
            "         [ 0.8250,  0.6079, -0.2717,  ...,  0.3292,  0.3621,  0.2845],\n",
            "         [ 0.8324,  0.1719,  0.4360,  ...,  1.0111,  0.8400,  0.6960],\n",
            "         ...,\n",
            "         [ 0.5005, -0.1666, -0.2114,  ...,  1.2973,  0.6796,  0.2463],\n",
            "         [ 1.0851,  0.0329,  0.3069,  ...,  0.4828,  0.3121,  1.3532],\n",
            "         [ 0.8394,  0.0899,  0.2688,  ...,  1.2574,  0.2690,  0.6570]],\n",
            "\n",
            "        [[ 0.5599,  0.7619, -0.1770,  ..., -0.0237,  0.6383,  0.1842],\n",
            "         [ 0.4659,  0.6223,  0.7316,  ...,  0.1442,  1.0130,  0.1966],\n",
            "         [ 0.3143,  1.0627,  0.7089,  ...,  0.2291,  0.1639,  0.7540],\n",
            "         ...,\n",
            "         [ 0.7645,  1.0478,  0.0880,  ...,  0.7990,  1.2119,  0.8256],\n",
            "         [ 0.8656,  0.7581,  0.1559,  ...,  0.6264,  0.7553,  0.4879],\n",
            "         [ 0.9965,  0.7210,  0.7569,  ...,  0.2789,  0.4716,  0.0604]],\n",
            "\n",
            "        [[ 0.0327,  0.2299, -0.3663,  ...,  0.5590,  0.9601,  1.0842],\n",
            "         [ 0.5669,  0.1136,  0.6981,  ...,  0.3564,  0.8544,  0.0269],\n",
            "         [ 0.7614, -0.1736,  0.7788,  ...,  0.2573,  0.6247,  0.5506],\n",
            "         ...,\n",
            "         [ 0.1814,  0.0694, -0.0579,  ..., -0.0864,  0.2746,  0.7597],\n",
            "         [ 1.1534,  0.3620,  0.1965,  ...,  0.1774,  0.8527,  0.9944],\n",
            "         [ 0.3592, -0.4810,  0.1166,  ...,  0.6064,  0.2213,  0.4328]]],\n",
            "       grad_fn=<AddBackward0>)\n"
          ]
        }
      ]
    },
    {
      "cell_type": "markdown",
      "source": [
        "# 9. Transformer Encoder\n",
        "The Encoder class creates the complete encoder part of the Transformer, consisting of multiple EncoderLayers stacked on top of each other."
      ],
      "metadata": {
        "id": "aeCkzsJwrZTC"
      }
    },
    {
      "cell_type": "code",
      "source": [
        "class Encoder(nn.Module):\n",
        "    def __init__(self, d_model, num_heads, num_layers, d_ff=2048, dropout=0.1):\n",
        "        super(Encoder, self).__init__()\n",
        "        self.layers = nn.ModuleList([EncoderLayer(d_model, num_heads, d_ff, dropout) for _ in range(num_layers)])\n",
        "        self.norm = nn.LayerNorm(d_model)\n",
        "\n",
        "    def forward(self, x, mask=None):\n",
        "        for layer in self.layers:\n",
        "            x = layer(x, mask)\n",
        "        return self.norm(x)"
      ],
      "metadata": {
        "id": "EnNkO4rtJA0R"
      },
      "execution_count": null,
      "outputs": []
    },
    {
      "cell_type": "markdown",
      "source": [
        "# 10. Decoder Layer\n",
        "The Decoder Layer is similar to the Encoder Layer but includes an additional Multi-Head Attention layer for attending to the encoder's output."
      ],
      "metadata": {
        "id": "m1Zp3icP8elT"
      }
    },
    {
      "cell_type": "code",
      "source": [
        "class DecoderLayer(nn.Module):\n",
        "    def __init__(self, d_model, num_heads, d_ff=2048, dropout=0.1):\n",
        "        super(DecoderLayer, self).__init__()\n",
        "        self.self_attn = MultiHeadAttention(d_model, num_heads)\n",
        "        self.cross_attn = MultiHeadAttention(d_model, num_heads)\n",
        "        self.feed_forward = FeedForward(d_model, d_ff)\n",
        "        self.sublayer = nn.ModuleList([nn.LayerNorm(d_model) for _ in range(3)])\n",
        "        self.dropout = nn.Dropout(dropout)\n",
        "\n",
        "    def forward(self, x, memory, src_mask, tgt_mask):\n",
        "        x = x + self.dropout(checkpoint.checkpoint(self.self_attn, self.sublayer[0](x), self.sublayer[0](x), self.sublayer[0](x), tgt_mask))\n",
        "        x = x + self.dropout(checkpoint.checkpoint(self.cross_attn, self.sublayer[1](x), memory, memory, src_mask))\n",
        "        return x + self.dropout(checkpoint.checkpoint(self.feed_forward, self.sublayer[2](x)))"
      ],
      "metadata": {
        "id": "JSoMXdpXvFLD"
      },
      "execution_count": null,
      "outputs": []
    },
    {
      "cell_type": "markdown",
      "source": [
        "# 11. Decoder\n",
        "The Decoder consists of multiple DecoderLayers stacked on top of each other. It processes the target sequence and attends to the encoder's output."
      ],
      "metadata": {
        "id": "mePAj1pN8hAf"
      }
    },
    {
      "cell_type": "code",
      "source": [
        "class Decoder(nn.Module):\n",
        "    def __init__(self, d_model, num_heads, num_layers, d_ff=2048, dropout=0.1):\n",
        "        super(Decoder, self).__init__()\n",
        "        self.layers = nn.ModuleList([DecoderLayer(d_model, num_heads, d_ff, dropout) for _ in range(num_layers)])\n",
        "        self.norm = nn.LayerNorm(d_model)\n",
        "\n",
        "    def forward(self, x, memory, src_mask, tgt_mask):\n",
        "        for layer in self.layers:\n",
        "            x = layer(x, memory, src_mask, tgt_mask)\n",
        "        return self.norm(x)"
      ],
      "metadata": {
        "id": "yZtq-aInvOwl"
      },
      "execution_count": null,
      "outputs": []
    },
    {
      "cell_type": "markdown",
      "source": [
        "# 12. Transformer\n",
        "The Transformer model combines the Encoder and Decoder. It uses embeddings and positional encodings for both source and target sequences."
      ],
      "metadata": {
        "id": "aQDJuEKX8ndA"
      }
    },
    {
      "cell_type": "code",
      "source": [
        "class Transformer(nn.Module):\n",
        "    def __init__(self, d_model, num_heads, num_layers, input_dim, output_dim, d_ff=2048, dropout=0.1):\n",
        "        super(Transformer, self).__init__()\n",
        "        self.encoder = Encoder(d_model, num_heads, num_layers, d_ff, dropout)\n",
        "        self.decoder = Decoder(d_model, num_heads, num_layers, d_ff, dropout)\n",
        "        self.src_embed = nn.Embedding(input_dim, d_model)\n",
        "        self.tgt_embed = nn.Embedding(output_dim, d_model)\n",
        "        self.pos_encoder = PositionalEncoding(d_model)\n",
        "        self.linear = nn.Linear(d_model, output_dim)\n",
        "\n",
        "    def forward(self, src, tgt, src_mask, tgt_mask):\n",
        "        src = self.src_embed(src) * math.sqrt(d_model)\n",
        "        src = self.pos_encoder(src)\n",
        "        tgt = self.tgt_embed(tgt) * math.sqrt(d_model)\n",
        "        tgt = self.pos_encoder(tgt)\n",
        "\n",
        "        memory = checkpoint.checkpoint(self.encoder, src, src_mask)\n",
        "        output = checkpoint.checkpoint(self.decoder, tgt, memory, src_mask, tgt_mask)\n",
        "        return self.linear(output)\n",
        "\n",
        "def create_mask(src, tgt, pad_idx):\n",
        "    src_mask = (src != pad_idx).unsqueeze(1).unsqueeze(2)\n",
        "    tgt_mask = (tgt != pad_idx).unsqueeze(1).unsqueeze(3)\n",
        "    seq_length = tgt.size(1)\n",
        "    nopeak_mask = (1 - torch.triu(torch.ones(1, seq_length, seq_length), diagonal=1)).bool().to(src.device)\n",
        "    tgt_mask = tgt_mask & nopeak_mask\n",
        "    return src_mask, tgt_mask\n",
        "\n",
        "def greedy_decode(model, src, src_mask, max_len, start_symbol):\n",
        "    memory = model.encode(src, src_mask)\n",
        "    ys = torch.ones(1, 1).fill_(start_symbol).type_as(src.data)\n",
        "    for i in range(max_len-1):\n",
        "        out = model.decode(memory, src_mask,\n",
        "                           ys,\n",
        "                           subsequent_mask(ys.size(1)).type_as(src.data))\n",
        "        prob = model.linear(out[:, -1])\n",
        "        _, next_word = torch.max(prob, dim = 1)\n",
        "        next_word = next_word.data[0]\n",
        "        ys = torch.cat([ys,\n",
        "                        torch.ones(1, 1).type_as(src.data).fill_(next_word)], dim=1)\n",
        "    return ys\n",
        "\n",
        "def subsequent_mask(size):\n",
        "    \"Mask out subsequent positions.\"\n",
        "    attn_shape = (1, size, size)\n",
        "    subsequent_mask = np.triu(np.ones(attn_shape), k=1).astype('uint8')\n",
        "    return torch.from_numpy(subsequent_mask) == 0\n",
        "\n",
        "# Instantiate the model\n",
        "input_dim = len(src_vocab)\n",
        "output_dim = len(tgt_vocab)\n",
        "print(f\"Input vocabulary size: {input_dim}\")\n",
        "print(f\"Output vocabulary size: {output_dim}\")\n",
        "model = Transformer(d_model=256, num_heads=4, num_layers=6, input_dim=input_dim, output_dim=output_dim)\n",
        "print(model)"
      ],
      "metadata": {
        "colab": {
          "base_uri": "https://localhost:8080/"
        },
        "id": "YHeFpS2jvRO5",
        "outputId": "71377df6-1808-4167-adbf-18100fc1d162"
      },
      "execution_count": null,
      "outputs": [
        {
          "output_type": "stream",
          "name": "stdout",
          "text": [
            "Input vocabulary size: 16896\n",
            "Output vocabulary size: 16681\n",
            "Transformer(\n",
            "  (encoder): Encoder(\n",
            "    (layers): ModuleList(\n",
            "      (0-5): 6 x EncoderLayer(\n",
            "        (self_attn): MultiHeadAttention(\n",
            "          (linear_layers): ModuleList(\n",
            "            (0-2): 3 x Linear(in_features=256, out_features=256, bias=True)\n",
            "          )\n",
            "          (output_linear): Linear(in_features=256, out_features=256, bias=True)\n",
            "        )\n",
            "        (feed_forward): FeedForward(\n",
            "          (linear1): Linear(in_features=256, out_features=2048, bias=True)\n",
            "          (linear2): Linear(in_features=2048, out_features=256, bias=True)\n",
            "        )\n",
            "        (sublayer): ModuleList(\n",
            "          (0-1): 2 x LayerNorm((256,), eps=1e-05, elementwise_affine=True)\n",
            "        )\n",
            "        (dropout): Dropout(p=0.1, inplace=False)\n",
            "      )\n",
            "    )\n",
            "    (norm): LayerNorm((256,), eps=1e-05, elementwise_affine=True)\n",
            "  )\n",
            "  (decoder): Decoder(\n",
            "    (layers): ModuleList(\n",
            "      (0-5): 6 x DecoderLayer(\n",
            "        (self_attn): MultiHeadAttention(\n",
            "          (linear_layers): ModuleList(\n",
            "            (0-2): 3 x Linear(in_features=256, out_features=256, bias=True)\n",
            "          )\n",
            "          (output_linear): Linear(in_features=256, out_features=256, bias=True)\n",
            "        )\n",
            "        (cross_attn): MultiHeadAttention(\n",
            "          (linear_layers): ModuleList(\n",
            "            (0-2): 3 x Linear(in_features=256, out_features=256, bias=True)\n",
            "          )\n",
            "          (output_linear): Linear(in_features=256, out_features=256, bias=True)\n",
            "        )\n",
            "        (feed_forward): FeedForward(\n",
            "          (linear1): Linear(in_features=256, out_features=2048, bias=True)\n",
            "          (linear2): Linear(in_features=2048, out_features=256, bias=True)\n",
            "        )\n",
            "        (sublayer): ModuleList(\n",
            "          (0-2): 3 x LayerNorm((256,), eps=1e-05, elementwise_affine=True)\n",
            "        )\n",
            "        (dropout): Dropout(p=0.1, inplace=False)\n",
            "      )\n",
            "    )\n",
            "    (norm): LayerNorm((256,), eps=1e-05, elementwise_affine=True)\n",
            "  )\n",
            "  (src_embed): Embedding(16896, 256)\n",
            "  (tgt_embed): Embedding(16681, 256)\n",
            "  (pos_encoder): PositionalEncoding()\n",
            "  (linear): Linear(in_features=256, out_features=16681, bias=True)\n",
            ")\n"
          ]
        }
      ]
    },
    {
      "cell_type": "markdown",
      "source": [
        "# 13. Training\n",
        "Training the Transformer involves defining the loss function, optimizer, and training loop. We use CrossEntropyLoss and Adam optimizer."
      ],
      "metadata": {
        "id": "pVAt_i5Z8sJ1"
      }
    },
    {
      "cell_type": "code",
      "source": [
        "import torch\n",
        "import torch.nn as nn\n",
        "import torch.optim as optim\n",
        "from torch.utils.data import DataLoader, TensorDataset, random_split\n",
        "from tqdm import tqdm\n",
        "import os\n",
        "from google.colab import drive\n",
        "from torch.utils.tensorboard import SummaryWriter\n",
        "from torch.cuda.amp import autocast, GradScaler\n",
        "import torch.utils.checkpoint as checkpoint\n",
        "import math\n",
        "\n",
        "# Mount Google Drive\n",
        "drive.mount('/content/drive')\n",
        "\n",
        "# Check if GPU is available\n",
        "device = torch.device(\"cuda\" if torch.cuda.is_available() else \"cpu\")\n",
        "print(f\"Using device: {device}\")\n",
        "\n",
        "# Hyperparameters\n",
        "d_model = 256\n",
        "num_heads = 4\n",
        "num_layers = 6\n",
        "batch_size = 16\n",
        "accumulation_steps = 4\n",
        "num_epochs = 5\n",
        "\n",
        "# Instantiate the model (using the new Transformer class)\n",
        "input_dim = len(src_vocab)\n",
        "output_dim = len(tgt_vocab)\n",
        "model = Transformer(d_model=d_model, num_heads=num_heads, num_layers=num_layers, input_dim=input_dim, output_dim=output_dim)\n",
        "model.to(device)\n",
        "\n",
        "# Initialize model weights\n",
        "def init_weights(m):\n",
        "    if isinstance(m, nn.Linear) or isinstance(m, nn.Embedding):\n",
        "        torch.nn.init.xavier_uniform_(m.weight)\n",
        "\n",
        "model.apply(init_weights)\n",
        "\n",
        "# Define loss function and optimizer\n",
        "criterion = nn.CrossEntropyLoss(ignore_index=src_vocab['<pad>'])\n",
        "optimizer = optim.Adam(model.parameters(), lr=0.0001, betas=(0.9, 0.98), eps=1e-9)\n",
        "scheduler = optim.lr_scheduler.ReduceLROnPlateau(optimizer, 'min', patience=1, factor=0.5)\n",
        "\n",
        "# Directory to save checkpoints\n",
        "checkpoint_dir = '/content/checkpoints'\n",
        "os.makedirs(checkpoint_dir, exist_ok=True)\n",
        "\n",
        "# TensorBoard writer\n",
        "writer = SummaryWriter()\n",
        "\n",
        "# Create DataLoader for training and validation datasets\n",
        "train_dataloader, val_dataloader = create_dataloader(src_padded, tgt_padded, batch_size=batch_size)\n",
        "\n",
        "# Initialize GradScaler for mixed precision training\n",
        "scaler = GradScaler()\n",
        "\n",
        "# Training loop\n",
        "best_loss = float('inf')\n",
        "patience = 2\n",
        "patience_counter = 0\n",
        "\n",
        "pad_idx = src_vocab['<pad>']\n",
        "\n",
        "for epoch in range(num_epochs):\n",
        "    torch.cuda.empty_cache()  # Clear CUDA cache\n",
        "    model.train()\n",
        "    total_loss = 0\n",
        "    progress_bar = tqdm(train_dataloader, desc=f\"Epoch {epoch+1}/{num_epochs}\")\n",
        "    optimizer.zero_grad()\n",
        "\n",
        "    for i, (batch_src, batch_tgt) in enumerate(progress_bar):\n",
        "        batch_src, batch_tgt = batch_src.to(device), batch_tgt.to(device)\n",
        "\n",
        "        src_mask, tgt_mask = create_mask(batch_src, batch_tgt[:, :-1], pad_idx)\n",
        "\n",
        "        with autocast():\n",
        "            output = model(batch_src, batch_tgt[:, :-1], src_mask, tgt_mask)\n",
        "            output = output.contiguous().view(-1, output_dim)\n",
        "            tgt_output = batch_tgt[:, 1:].contiguous().view(-1)\n",
        "            loss = criterion(output, tgt_output) / accumulation_steps\n",
        "\n",
        "        scaler.scale(loss).backward()\n",
        "\n",
        "        if (i + 1) % accumulation_steps == 0:\n",
        "            scaler.unscale_(optimizer)\n",
        "            torch.nn.utils.clip_grad_norm_(model.parameters(), max_norm=1.0)\n",
        "            scaler.step(optimizer)\n",
        "            scaler.update()\n",
        "            optimizer.zero_grad()\n",
        "\n",
        "        total_loss += loss.item() * accumulation_steps\n",
        "        average_loss = total_loss / (i + 1)\n",
        "        progress_bar.set_postfix(loss=average_loss)\n",
        "\n",
        "    print(f'Epoch {epoch+1}/{num_epochs}, Loss: {total_loss/len(train_dataloader)}')\n",
        "\n",
        "    # Validation\n",
        "    model.eval()\n",
        "    val_loss = 0\n",
        "    with torch.no_grad():\n",
        "        for val_batch_src, val_batch_tgt in val_dataloader:\n",
        "            val_batch_src, val_batch_tgt = val_batch_src.to(device), val_batch_tgt.to(device)\n",
        "            src_mask, tgt_mask = create_mask(val_batch_src, val_batch_tgt[:, :-1], pad_idx)\n",
        "            with autocast():\n",
        "                val_output = model(val_batch_src, val_batch_tgt[:, :-1], src_mask, tgt_mask)\n",
        "                val_output = val_output.contiguous().view(-1, output_dim)\n",
        "                val_tgt_output = val_batch_tgt[:, 1:].contiguous().view(-1)\n",
        "                val_loss += criterion(val_output, val_tgt_output).item()\n",
        "    val_loss /= len(val_dataloader)\n",
        "    print(f'Validation Loss: {val_loss}')\n",
        "\n",
        "    # Early stopping and model saving logic\n",
        "    if val_loss < best_loss:\n",
        "        best_loss = val_loss\n",
        "        patience_counter = 0\n",
        "        torch.save(model.state_dict(), os.path.join(checkpoint_dir, 'best_model.pth'))\n",
        "    else:\n",
        "        patience_counter += 1\n",
        "        if patience_counter >= patience:\n",
        "            print(\"Early stopping triggered\")\n",
        "            break\n",
        "\n",
        "    scheduler.step(val_loss)\n",
        "    writer.add_scalar('Loss/train', total_loss/len(train_dataloader), epoch)\n",
        "    writer.add_scalar('Loss/val', val_loss, epoch)\n",
        "\n",
        "writer.close()\n",
        "\n",
        "# Save final model\n",
        "final_model_path = os.path.join(checkpoint_dir, 'final_model.pth')\n",
        "torch.save(model.state_dict(), final_model_path)\n",
        "print(f'Final model saved at {final_model_path}')\n",
        "\n",
        "drive_model_path = '/content/drive/MyDrive/final_model.pth'\n",
        "torch.save(model.state_dict(), drive_model_path)\n",
        "print(f'Final model also saved to Google Drive at {drive_model_path}')"
      ],
      "metadata": {
        "colab": {
          "base_uri": "https://localhost:8080/"
        },
        "id": "7_Unkj_Fxtyi",
        "outputId": "afc2ae26-21e4-4303-a1b2-cf31ea260e3d"
      },
      "execution_count": null,
      "outputs": [
        {
          "output_type": "stream",
          "name": "stdout",
          "text": [
            "Drive already mounted at /content/drive; to attempt to forcibly remount, call drive.mount(\"/content/drive\", force_remount=True).\n",
            "Using device: cuda\n"
          ]
        },
        {
          "output_type": "stream",
          "name": "stderr",
          "text": [
            "Epoch 1/5: 100%|██████████| 9333/9333 [41:46<00:00,  3.72it/s, loss=7.13]\n"
          ]
        },
        {
          "output_type": "stream",
          "name": "stdout",
          "text": [
            "Epoch 1/5, Loss: 7.126100824332168\n",
            "Validation Loss: 6.4136459788338085\n"
          ]
        },
        {
          "output_type": "stream",
          "name": "stderr",
          "text": [
            "Epoch 2/5: 100%|██████████| 9333/9333 [41:47<00:00,  3.72it/s, loss=6.13]\n"
          ]
        },
        {
          "output_type": "stream",
          "name": "stdout",
          "text": [
            "Epoch 2/5, Loss: 6.133519442533867\n",
            "Validation Loss: 5.919514746192336\n"
          ]
        },
        {
          "output_type": "stream",
          "name": "stderr",
          "text": [
            "Epoch 3/5: 100%|██████████| 9333/9333 [41:47<00:00,  3.72it/s, loss=5.72]\n"
          ]
        },
        {
          "output_type": "stream",
          "name": "stdout",
          "text": [
            "Epoch 3/5, Loss: 5.71527791398777\n",
            "Validation Loss: 5.626659580458785\n"
          ]
        },
        {
          "output_type": "stream",
          "name": "stderr",
          "text": [
            "Epoch 4/5: 100%|██████████| 9333/9333 [41:46<00:00,  3.72it/s, loss=5.41]\n"
          ]
        },
        {
          "output_type": "stream",
          "name": "stdout",
          "text": [
            "Epoch 4/5, Loss: 5.413508685853951\n",
            "Validation Loss: 5.407874637537545\n"
          ]
        },
        {
          "output_type": "stream",
          "name": "stderr",
          "text": [
            "Epoch 5/5: 100%|██████████| 9333/9333 [41:47<00:00,  3.72it/s, loss=5.16]\n"
          ]
        },
        {
          "output_type": "stream",
          "name": "stdout",
          "text": [
            "Epoch 5/5, Loss: 5.162251121832042\n",
            "Validation Loss: 5.2436189628498076\n",
            "Final model saved at /content/checkpoints/final_model.pth\n",
            "Final model also saved to Google Drive at /content/drive/MyDrive/final_model.pth\n"
          ]
        }
      ]
    },
    {
      "cell_type": "markdown",
      "source": [
        "# 14. Inference\n",
        "During inference, we use the trained model to generate translations."
      ],
      "metadata": {
        "id": "zDEsSX5M8yrg"
      }
    },
    {
      "cell_type": "code",
      "source": [
        "import torch\n",
        "import torch.nn as nn\n",
        "import math\n",
        "import numpy as np\n",
        "from google.colab import drive\n",
        "\n",
        "# Mount Google Drive\n",
        "drive.mount('/content/drive')\n",
        "\n",
        "# Load BPE codes for source and target languages\n",
        "from subword_nmt.apply_bpe import BPE\n",
        "\n",
        "with open('source-bpe.codes', 'r', encoding='utf-8') as f:\n",
        "    src_bpe = BPE(f)\n",
        "\n",
        "with open('target-bpe.codes', 'r', encoding='utf-8') as f:\n",
        "    tgt_bpe = BPE(f)\n",
        "\n",
        "# Define the necessary components here\n",
        "class PositionalEncoding(nn.Module):\n",
        "    def __init__(self, d_model, max_len=5000):\n",
        "        super(PositionalEncoding, self).__init__()\n",
        "        pe = torch.zeros(max_len, d_model)\n",
        "        position = torch.arange(0, max_len, dtype=torch.float).unsqueeze(1)\n",
        "        div_term = torch.exp(torch.arange(0, d_model, 2).float() * (-math.log(10000.0) / d_model))\n",
        "        pe[:, 0::2] = torch.sin(position * div_term)\n",
        "        pe[:, 1::2] = torch.cos(position * div_term)\n",
        "        pe = pe.unsqueeze(0).transpose(0, 1)\n",
        "        self.register_buffer('pe', pe)\n",
        "\n",
        "    def forward(self, x):\n",
        "        x = x + self.pe[:x.size(0), :]\n",
        "        return x\n",
        "\n",
        "def scaled_dot_product_attention(query, key, value, mask=None):\n",
        "    d_k = query.size(-1)\n",
        "    scores = torch.matmul(query, key.transpose(-2, -1)) / math.sqrt(d_k)\n",
        "    if mask is not None:\n",
        "        scores = scores.masked_fill(mask == 0, -1e4)\n",
        "    attn = torch.nn.functional.softmax(scores, dim=-1)\n",
        "    output = torch.matmul(attn, value)\n",
        "    return output, attn\n",
        "\n",
        "class MultiHeadAttention(nn.Module):\n",
        "    def __init__(self, d_model, num_heads):\n",
        "        super(MultiHeadAttention, self).__init__()\n",
        "        assert d_model % num_heads == 0\n",
        "        self.d_k = d_model // num_heads\n",
        "        self.num_heads = num_heads\n",
        "        self.linear_layers = nn.ModuleList([nn.Linear(d_model, d_model) for _ in range(3)])\n",
        "        self.output_linear = nn.Linear(d_model, d_model)\n",
        "        self.attention = None\n",
        "\n",
        "    def forward(self, query, key, value, mask=None):\n",
        "        batch_size = query.size(0)\n",
        "        query, key, value = [l(x).view(batch_size, -1, self.num_heads, self.d_k).transpose(1, 2)\n",
        "                             for l, x in zip(self.linear_layers, (query, key, value))]\n",
        "        x, self.attention = scaled_dot_product_attention(query, key, value, mask=mask)\n",
        "        x = x.transpose(1, 2).contiguous().view(batch_size, -1, self.num_heads * self.d_k)\n",
        "        return self.output_linear(x)\n",
        "\n",
        "class FeedForward(nn.Module):\n",
        "    def __init__(self, d_model, d_ff=2048):\n",
        "        super(FeedForward, self).__init__()\n",
        "        self.linear1 = nn.Linear(d_model, d_ff)\n",
        "        self.linear2 = nn.Linear(d_ff, d_model)\n",
        "\n",
        "    def forward(self, x):\n",
        "        return self.linear2(torch.nn.functional.relu(self.linear1(x)))\n",
        "\n",
        "class EncoderLayer(nn.Module):\n",
        "    def __init__(self, d_model, num_heads, d_ff=2048, dropout=0.1):\n",
        "        super(EncoderLayer, self).__init__()\n",
        "        self.self_attn = MultiHeadAttention(d_model, num_heads)\n",
        "        self.feed_forward = FeedForward(d_model, d_ff)\n",
        "        self.sublayer = nn.ModuleList([nn.LayerNorm(d_model) for _ in range(2)])\n",
        "        self.dropout = nn.Dropout(dropout)\n",
        "\n",
        "    def forward(self, x, mask=None):\n",
        "        x = x + self.dropout(self.self_attn(self.sublayer[0](x), self.sublayer[0](x), self.sublayer[0](x), mask))\n",
        "        return x + self.dropout(self.feed_forward(self.sublayer[1](x)))\n",
        "\n",
        "class Encoder(nn.Module):\n",
        "    def __init__(self, d_model, num_heads, num_layers, d_ff=2048, dropout=0.1):\n",
        "        super(Encoder, self).__init__()\n",
        "        self.layers = nn.ModuleList([EncoderLayer(d_model, num_heads, d_ff, dropout) for _ in range(num_layers)])\n",
        "        self.norm = nn.LayerNorm(d_model)\n",
        "\n",
        "    def forward(self, x, mask=None):\n",
        "        for layer in self.layers:\n",
        "            x = layer(x, mask)\n",
        "        return self.norm(x)\n",
        "\n",
        "class DecoderLayer(nn.Module):\n",
        "    def __init__(self, d_model, num_heads, d_ff=2048, dropout=0.1):\n",
        "        super(DecoderLayer, self).__init__()\n",
        "        self.self_attn = MultiHeadAttention(d_model, num_heads)\n",
        "        self.cross_attn = MultiHeadAttention(d_model, num_heads)\n",
        "        self.feed_forward = FeedForward(d_model, d_ff)\n",
        "        self.sublayer = nn.ModuleList([nn.LayerNorm(d_model) for _ in range(3)])\n",
        "        self.dropout = nn.Dropout(dropout)\n",
        "\n",
        "    def forward(self, x, memory, src_mask, tgt_mask):\n",
        "        x = x + self.dropout(self.self_attn(self.sublayer[0](x), self.sublayer[0](x), self.sublayer[0](x), tgt_mask))\n",
        "        x = x + self.dropout(self.cross_attn(self.sublayer[1](x), memory, memory, src_mask))\n",
        "        return x + self.dropout(self.feed_forward(self.sublayer[2](x)))\n",
        "\n",
        "class Decoder(nn.Module):\n",
        "    def __init__(self, d_model, num_heads, num_layers, d_ff=2048, dropout=0.1):\n",
        "        super(Decoder, self).__init__()\n",
        "        self.layers = nn.ModuleList([DecoderLayer(d_model, num_heads, d_ff, dropout) for _ in range(num_layers)])\n",
        "        self.norm = nn.LayerNorm(d_model)\n",
        "\n",
        "    def forward(self, x, memory, src_mask, tgt_mask):\n",
        "        for layer in self.layers:\n",
        "            x = layer(x, memory, src_mask, tgt_mask)\n",
        "        return self.norm(x)\n",
        "\n",
        "class Transformer(nn.Module):\n",
        "    def __init__(self, d_model, num_heads, num_layers, input_dim, output_dim, d_ff=2048, dropout=0.1):\n",
        "        super(Transformer, self).__init__()\n",
        "        self.encoder = Encoder(d_model, num_heads, num_layers, d_ff, dropout)\n",
        "        self.decoder = Decoder(d_model, num_heads, num_layers, d_ff, dropout)\n",
        "        self.src_embed = nn.Embedding(input_dim, d_model)\n",
        "        self.tgt_embed = nn.Embedding(output_dim, d_model)\n",
        "        self.pos_encoder = PositionalEncoding(d_model)\n",
        "        self.linear = nn.Linear(d_model, output_dim)\n",
        "\n",
        "    def forward(self, src, tgt, src_mask, tgt_mask):\n",
        "        src = self.src_embed(src) * math.sqrt(d_model)\n",
        "        src = self.pos_encoder(src)\n",
        "        tgt = self.tgt_embed(tgt) * math.sqrt(d_model)\n",
        "        tgt = self.pos_encoder(tgt)\n",
        "\n",
        "        memory = self.encoder(src, src_mask)\n",
        "        output = self.decoder(tgt, memory, src_mask, tgt_mask)\n",
        "        return self.linear(output)\n",
        "\n",
        "def create_mask(src, tgt, pad_idx):\n",
        "    src_mask = (src != pad_idx).unsqueeze(1).unsqueeze(2)\n",
        "    tgt_mask = (tgt != pad_idx).unsqueeze(1).unsqueeze(3)\n",
        "    seq_length = tgt.size(1)\n",
        "    nopeak_mask = (1 - torch.triu(torch.ones(1, seq_length, seq_length), diagonal=1)).bool().to(src.device)\n",
        "    tgt_mask = tgt_mask & nopeak_mask\n",
        "    return src_mask, tgt_mask\n",
        "\n",
        "def greedy_decode(model, src, src_mask, max_len, start_symbol):\n",
        "    memory = model.encoder(src, src_mask)\n",
        "    ys = torch.ones(1, 1).fill_(start_symbol).type_as(src.data)\n",
        "    for i in range(max_len-1):\n",
        "        tgt_mask = (ys != src_vocab['<pad>']).unsqueeze(1).unsqueeze(3) & subsequent_mask(ys.size(1)).type_as(src.data)\n",
        "        out = model.decoder(model.pos_encoder(model.tgt_embed(ys) * math.sqrt(d_model)), memory, src_mask, tgt_mask)\n",
        "        prob = model.linear(out[:, -1])\n",
        "        _, next_word = torch.max(prob, dim=1)\n",
        "        next_word = next_word.item()\n",
        "        ys = torch.cat([ys, torch.ones(1, 1).type_as(src.data).fill_(next_word)], dim=1)\n",
        "        if next_word == tgt_vocab['<eos>']:\n",
        "            break\n",
        "    return ys\n",
        "\n",
        "def subsequent_mask(size):\n",
        "    attn_shape = (1, size, size)\n",
        "    subsequent_mask = np.triu(np.ones(attn_shape), k=1).astype('uint8')\n",
        "    return torch.from_numpy(subsequent_mask) == 0\n",
        "\n",
        "# Load the saved model from Google Drive\n",
        "drive_model_path = '/content/drive/MyDrive/final_model.pth'\n",
        "model = Transformer(d_model=256, num_heads=4, num_layers=6, input_dim=len(src_vocab), output_dim=len(tgt_vocab))\n",
        "\n",
        "# Load state dictionary\n",
        "state_dict = torch.load(drive_model_path, map_location=torch.device('cpu'))\n",
        "\n",
        "# Filter out unexpected keys\n",
        "model_state_dict = model.state_dict()\n",
        "filtered_state_dict = {k: v for k, v in state_dict.items() if k in model_state_dict}\n",
        "model_state_dict.update(filtered_state_dict)\n",
        "model.load_state_dict(model_state_dict)\n",
        "\n",
        "model.eval()\n",
        "\n",
        "# Define a function to translate a given sentence\n",
        "def translate_sentence(sentence, src_vocab, tgt_vocab, model, max_len=50):\n",
        "    model.eval()\n",
        "\n",
        "    # Apply BPE to the input sentence\n",
        "    bpe_sentence = src_bpe.process_line(sentence.strip())\n",
        "    tokens = bpe_sentence.split()\n",
        "\n",
        "    # Convert tokens to indices using the source vocabulary\n",
        "    src_indices = [src_vocab.get(token, src_vocab['<unk>']) for token in tokens]\n",
        "    src_tensor = torch.tensor(src_indices).unsqueeze(0)  # Add batch dimension\n",
        "    src_mask = (src_tensor != src_vocab['<pad>']).unsqueeze(1).unsqueeze(2)\n",
        "\n",
        "    # Encode the source sentence\n",
        "    memory = model.encoder(model.pos_encoder(model.src_embed(src_tensor) * math.sqrt(d_model)), src_mask)\n",
        "\n",
        "    # Initialize the target sequence with the start symbol\n",
        "    ys = torch.ones(1, 1).fill_(tgt_vocab['<sos>']).type_as(src_tensor.data)\n",
        "\n",
        "    for i in range(max_len):\n",
        "        tgt_mask = (ys != tgt_vocab['<pad>']).unsqueeze(1).unsqueeze(3) & subsequent_mask(ys.size(1)).type_as(src_tensor.data)\n",
        "        out = model.decoder(model.pos_encoder(model.tgt_embed(ys) * math.sqrt(d_model)), memory, src_mask, tgt_mask)\n",
        "        prob = model.linear(out[:, -1])\n",
        "        _, next_word = torch.max(prob, dim=1)\n",
        "        next_word = next_word.item()\n",
        "        ys = torch.cat([ys, torch.ones(1, 1).type_as(src_tensor.data).fill_(next_word)], dim=1)\n",
        "\n",
        "        if next_word == tgt_vocab['<eos>']:\n",
        "            break\n",
        "\n",
        "    # Convert indices back to words using the target vocabulary\n",
        "    translated_sentence = [list(tgt_vocab.keys())[list(tgt_vocab.values()).index(idx)] for idx in ys.squeeze().tolist()]\n",
        "    return ' '.join(translated_sentence[1:-1])  # Exclude <sos> and <eos> tokens\n",
        "\n",
        "# Example test sentence\n",
        "test_sentence = \"This is a test sentence.\"\n",
        "translated_sentence = translate_sentence(test_sentence, src_vocab, tgt_vocab, model)\n",
        "print(f\"Translated sentence: {translated_sentence}\")"
      ],
      "metadata": {
        "colab": {
          "base_uri": "https://localhost:8080/"
        },
        "id": "dRS7bonFBd4S",
        "outputId": "8a1c2a75-7881-4971-aa76-23b01ceb070e"
      },
      "execution_count": null,
      "outputs": [
        {
          "output_type": "stream",
          "name": "stdout",
          "text": [
            "Mounted at /content/drive\n",
            "Translated sentence: एक बार है. यह एक बार है. क्या है. यह एक बार एक बार एक बार एक बार है. यह एक बार एक बार एक बार है. यह एक बार एक बार एक बार एक बार है. यह एक बार एक बार एक बार एक बार एक बार है.\n"
          ]
        }
      ]
    },
    {
      "cell_type": "code",
      "source": [
        "# Example test sentence #2\n",
        "test_sentence = \"What is this?\"\n",
        "# Translate the test sentence #3\n",
        "translated_sentence = translate_sentence(test_sentence, src_vocab, tgt_vocab, model)\n",
        "print(f\"Translated sentence: {translated_sentence}\")"
      ],
      "metadata": {
        "colab": {
          "base_uri": "https://localhost:8080/"
        },
        "id": "Kb4mYowXxdaI",
        "outputId": "7c62a9b8-d96b-4027-f110-80f94ee5d857"
      },
      "execution_count": null,
      "outputs": [
        {
          "output_type": "stream",
          "name": "stdout",
          "text": [
            "Translated sentence: क्या है? क्या क्या है? क्या क्या क्या है? क्या क्या क्या क्या है? क्या क्या क्या क्या क्या क्या है? क्या क्या क्या क्या क्या क्या है? क्या क्या क्या क्या क्या क्या क्या है? क्या क्या क्या क्या क्या क्या क्या क्या है? क्या क्या क्या क्या क्या\n"
          ]
        }
      ]
    },
    {
      "cell_type": "code",
      "source": [
        "# Example test sentence #3\n",
        "test_sentence = \"can you see?\"\n",
        "# Translate the test sentence #3\n",
        "translated_sentence = translate_sentence(test_sentence, src_vocab, tgt_vocab, model)\n",
        "print(f\"Translated sentence: {translated_sentence}\")"
      ],
      "metadata": {
        "colab": {
          "base_uri": "https://localhost:8080/"
        },
        "id": "fO5iJQf0GLRO",
        "outputId": "5e890265-8b1c-4d72-804f-8a1e0c4e573a"
      },
      "execution_count": null,
      "outputs": [
        {
          "output_type": "stream",
          "name": "stdout",
          "text": [
            "Translated sentence: कर सकते हैं कि आप क्या कर सकते हैं. आप आप कर सकते हैं. आप इसे आप कर सकते हैं. आप कर सकते हैं. आप इसे आप कर सकते हैं. आप इसे आप कर सकते हैं. आप इसे आप कर सकते हैं. आप इसे आप कर सकते हैं. आप कर\n"
          ]
        }
      ]
    },
    {
      "cell_type": "code",
      "source": [],
      "metadata": {
        "id": "Fs4J1t8JCzvL"
      },
      "execution_count": null,
      "outputs": []
    }
  ]
}